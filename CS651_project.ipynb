{
  "nbformat": 4,
  "nbformat_minor": 0,
  "metadata": {
    "accelerator": "GPU",
    "colab": {
      "name": "CS651_project.ipynb",
      "provenance": [],
      "collapsed_sections": [],
      "toc_visible": true
    },
    "kernelspec": {
      "display_name": "Python 3",
      "name": "python3"
    }
  },
  "cells": [
    {
      "cell_type": "markdown",
      "metadata": {
        "id": "dwqKU-PhhC58"
      },
      "source": [
        "#[Apache Spark 3.0.0 with Google Colab](http://apache.osuosl.org/spark/spark-3.0.0/)\n",
        "\n",
        "**Author: MA Raza**\n",
        "\n",
        "This is the working google collaboratory notebook example of setting up  recently release spark 3.0.0 in google colab. \n",
        "\n",
        "* Installing Java in the Google Colaboratory\n",
        "* Setting up Spark 3.0 in the Google Colaboratory\n",
        "* A test example\n",
        "\n",
        "**References:**\n",
        "\n",
        "1. http://apache.osuosl.org/spark/spark-3.0.0/\n",
        "2. https://medium.com/@sushantgautam_930/apache-spark-in-google-collaboratory-in-3-steps-e0acbba654e6\n",
        "3. https://notebooks.gesis.org/binder/jupyter/user/databricks-koalas-kuv5qckt/notebooks/docs/source/getting_started/10min.ipynb\n",
        "4. https://medium.com/@amjadraza24/getting-started-spark3-0-0-with-google-colab-9796d350d78\n",
        "\n"
      ]
    },
    {
      "cell_type": "markdown",
      "metadata": {
        "id": "2COZzvqcf-Pg"
      },
      "source": [
        "# Setting up Spark 3.0.0 in the Google Colaboratory\n",
        "\n",
        "This notebook comprises the instructions to run Sprak and pyspark in google colabboratory framework. \n",
        "\n",
        "We will be running the excises of  some basic functions on using koalas\n",
        "\n",
        "We will install below programs\n",
        "\n",
        "* Java 8\n",
        "* spark-3.0.0\n",
        "* Hadoop3.2 \n",
        "* [Findspark](https://github.com/minrk/findspark)\n",
        "\n",
        "\n",
        "This installs Apache Spark 3.0.0, Java 8, and [Findspark](https://github.com/minrk/findspark), a library that makes it easy for Python to find Spark.\n",
        "\n",
        "Run below set of commands to install spark. \n",
        "\n",
        "**Change the location/version of spark version of your choice**\n",
        "\n",
        "**[Apache Spark in Google Collaboratory In 3 steps.](https://medium.com/@sushantgautam_930/apache-spark-in-google-collaboratory-in-3-steps-e0acbba654e6)**\n",
        "\n",
        "> Make sure the spark-version you are downloading is availbale on target link\n",
        "\n"
      ]
    },
    {
      "cell_type": "code",
      "metadata": {
        "id": "3MZdDu9LhLwN"
      },
      "source": [
        "# Run below commands\n",
        "!apt-get update -qq\n",
        "!apt-get install openjdk-8-jdk-headless -qq > /dev/null\n",
        "!rm -rf spark-*\n",
        "!wget -q http://apache.osuosl.org/spark/spark-3.0.1/spark-3.0.1-bin-hadoop2.7.tgz\n",
        "!tar xf spark-3.0.1-bin-hadoop2.7.tgz --overwrite\n",
        "!pip install -q findspark"
      ],
      "execution_count": 1,
      "outputs": []
    },
    {
      "cell_type": "code",
      "metadata": {
        "id": "yKbDZzlDe_aT",
        "colab": {
          "base_uri": "https://localhost:8080/"
        },
        "outputId": "ce1ee01e-eef9-450e-e263-16915da6549e"
      },
      "source": [
        "\n",
        "!ls -a"
      ],
      "execution_count": 2,
      "outputs": [
        {
          "output_type": "stream",
          "text": [
            ".   .config\t spark-3.0.1-bin-hadoop2.7\n",
            "..  sample_data  spark-3.0.1-bin-hadoop2.7.tgz\n"
          ],
          "name": "stdout"
        }
      ]
    },
    {
      "cell_type": "code",
      "metadata": {
        "id": "sit9TX0chlNF"
      },
      "source": [
        "import os\n",
        "os.environ[\"JAVA_HOME\"] = \"/usr/lib/jvm/java-8-openjdk-amd64\"\n",
        "os.environ[\"SPARK_HOME\"] = \"/content/spark-3.0.1-bin-hadoop2.7\""
      ],
      "execution_count": 3,
      "outputs": []
    },
    {
      "cell_type": "markdown",
      "metadata": {
        "id": "da7M2Wi1jC1c"
      },
      "source": [
        "## Spark Installation test\n",
        "Lets test the installation of spark in our google colab environment. "
      ]
    },
    {
      "cell_type": "code",
      "metadata": {
        "id": "Y18KVg34jkXj",
        "colab": {
          "base_uri": "https://localhost:8080/"
        },
        "outputId": "8bba8cd9-7bf3-4a20-96c5-1d4bd51f31d7"
      },
      "source": [
        "import findspark\n",
        "findspark.init()\n",
        "\n",
        "from pyspark.sql import SparkSession\n",
        "\n",
        "spark = SparkSession.builder.master(\"local[*]\").getOrCreate()\n",
        "# Test the spark \n",
        "df = spark.createDataFrame([{\"hello\": \"world\"} for x in range(1000)])\n",
        "\n",
        "df.show(3, False)\n"
      ],
      "execution_count": 4,
      "outputs": [
        {
          "output_type": "stream",
          "text": [
            "/content/spark-3.0.1-bin-hadoop2.7/python/pyspark/sql/session.py:381: UserWarning: inferring schema from dict is deprecated,please use pyspark.sql.Row instead\n",
            "  warnings.warn(\"inferring schema from dict is deprecated,\"\n"
          ],
          "name": "stderr"
        },
        {
          "output_type": "stream",
          "text": [
            "+-----+\n",
            "|hello|\n",
            "+-----+\n",
            "|world|\n",
            "|world|\n",
            "|world|\n",
            "+-----+\n",
            "only showing top 3 rows\n",
            "\n"
          ],
          "name": "stdout"
        }
      ]
    },
    {
      "cell_type": "code",
      "metadata": {
        "id": "pe6Mlcs29vX-",
        "colab": {
          "base_uri": "https://localhost:8080/"
        },
        "outputId": "a301a6f3-d2b2-40a0-c356-46f4530cbf1f"
      },
      "source": [
        "# Check the pyspark version\n",
        "import pyspark\n",
        "print(pyspark.__version__)"
      ],
      "execution_count": 5,
      "outputs": [
        {
          "output_type": "stream",
          "text": [
            "3.0.1\n"
          ],
          "name": "stdout"
        }
      ]
    },
    {
      "cell_type": "code",
      "metadata": {
        "id": "K969euO2AHC2",
        "colab": {
          "base_uri": "https://localhost:8080/"
        },
        "outputId": "b413f0f7-8efd-4311-9801-ab8b9aeeb93d"
      },
      "source": [
        "from google.colab import drive\n",
        "drive.mount('/content/drive')"
      ],
      "execution_count": 6,
      "outputs": [
        {
          "output_type": "stream",
          "text": [
            "Mounted at /content/drive\n"
          ],
          "name": "stdout"
        }
      ]
    },
    {
      "cell_type": "code",
      "metadata": {
        "id": "enye5sUFCYpR",
        "colab": {
          "base_uri": "https://localhost:8080/"
        },
        "outputId": "30b05260-ee24-4777-e41e-7f8a56aa2a69"
      },
      "source": [
        "!unzip \"/content/drive/My Drive/mgc_dataset/CS651Final/jigsaw-toxic-comment-classification-challenge/*.zip\" -d \"/content/drive/My Drive/mgc_dataset/CS651Final/jigsaw-toxic-comment-classification-challenge/\""
      ],
      "execution_count": null,
      "outputs": [
        {
          "output_type": "stream",
          "text": [
            "Archive:  /content/drive/My Drive/mgc_dataset/CS651Final/jigsaw-toxic-comment-classification-challenge/sample_submission.csv.zip\n"
          ],
          "name": "stdout"
        }
      ]
    },
    {
      "cell_type": "code",
      "metadata": {
        "id": "P99BG0cAFRN4"
      },
      "source": [
        "import pandas as pd\n",
        "import pyspark\n",
        "from pyspark.sql import SparkSession\n",
        "import pyspark.sql.functions as F\n",
        "import pyspark.sql.types as T\n",
        "from pyspark.ml.feature import Tokenizer, HashingTF, IDF\n",
        "from pyspark.ml.classification import LogisticRegression\n",
        "import matplotlib.pyplot as plt\n",
        "import seaborn as sns\n",
        "from pyspark.ml.feature import StopWordsRemover \n",
        "from pyspark.ml import Pipeline\n",
        "from pyspark.sql import SQLContext"
      ],
      "execution_count": 7,
      "outputs": []
    },
    {
      "cell_type": "code",
      "metadata": {
        "id": "Qtfw-1lYHMYy",
        "colab": {
          "base_uri": "https://localhost:8080/"
        },
        "outputId": "a51ccbdf-6ebd-437e-b88b-b0dd5eb5c9c5"
      },
      "source": [
        "class_names = ['toxic', 'severe_toxic', 'obscene', 'threat', 'insult', 'identity_hate']\n",
        "TRAIN_FILE = \"/content/drive/My Drive/mgc_dataset/CS651Final/jigsaw-toxic-comment-classification-challenge/train.csv\"\n",
        "TEST_DATA_FILE = \"/content/drive/My Drive/mgc_dataset/CS651Final/jigsaw-toxic-comment-classification-challenge/test.csv\"\n",
        "TEST_LABEL = \"/content/drive/My Drive/mgc_dataset/CS651Final/jigsaw-toxic-comment-classification-challenge/test_labels.csv\"\n",
        "\n",
        "train = pd.read_csv(TRAIN_FILE)\n",
        "test_data = pd.read_csv(TEST_DATA_FILE)\n",
        "test_label =  pd.read_csv(TEST_LABEL)\n",
        "print(\"training data shape\",train.shape)\n",
        "print(\"testing data shape\",test_data.shape)\n",
        "print(\"testing data label shape\",test_label.shape)"
      ],
      "execution_count": 8,
      "outputs": [
        {
          "output_type": "stream",
          "text": [
            "training data shape (159571, 8)\n",
            "testing data shape (153164, 2)\n",
            "testing data label shape (153164, 7)\n"
          ],
          "name": "stdout"
        }
      ]
    },
    {
      "cell_type": "code",
      "metadata": {
        "id": "lrFnV61iOCbe",
        "colab": {
          "base_uri": "https://localhost:8080/",
          "height": 376
        },
        "outputId": "df0dc021-5577-45d6-b74e-2f21bf38ecfc"
      },
      "source": [
        "train.head(10)"
      ],
      "execution_count": 10,
      "outputs": [
        {
          "output_type": "execute_result",
          "data": {
            "text/html": [
              "<div>\n",
              "<style scoped>\n",
              "    .dataframe tbody tr th:only-of-type {\n",
              "        vertical-align: middle;\n",
              "    }\n",
              "\n",
              "    .dataframe tbody tr th {\n",
              "        vertical-align: top;\n",
              "    }\n",
              "\n",
              "    .dataframe thead th {\n",
              "        text-align: right;\n",
              "    }\n",
              "</style>\n",
              "<table border=\"1\" class=\"dataframe\">\n",
              "  <thead>\n",
              "    <tr style=\"text-align: right;\">\n",
              "      <th></th>\n",
              "      <th>id</th>\n",
              "      <th>comment_text</th>\n",
              "      <th>toxic</th>\n",
              "      <th>severe_toxic</th>\n",
              "      <th>obscene</th>\n",
              "      <th>threat</th>\n",
              "      <th>insult</th>\n",
              "      <th>identity_hate</th>\n",
              "    </tr>\n",
              "  </thead>\n",
              "  <tbody>\n",
              "    <tr>\n",
              "      <th>0</th>\n",
              "      <td>0000997932d777bf</td>\n",
              "      <td>Explanation\\nWhy the edits made under my usern...</td>\n",
              "      <td>0</td>\n",
              "      <td>0</td>\n",
              "      <td>0</td>\n",
              "      <td>0</td>\n",
              "      <td>0</td>\n",
              "      <td>0</td>\n",
              "    </tr>\n",
              "    <tr>\n",
              "      <th>1</th>\n",
              "      <td>000103f0d9cfb60f</td>\n",
              "      <td>D'aww! He matches this background colour I'm s...</td>\n",
              "      <td>0</td>\n",
              "      <td>0</td>\n",
              "      <td>0</td>\n",
              "      <td>0</td>\n",
              "      <td>0</td>\n",
              "      <td>0</td>\n",
              "    </tr>\n",
              "    <tr>\n",
              "      <th>2</th>\n",
              "      <td>000113f07ec002fd</td>\n",
              "      <td>Hey man, I'm really not trying to edit war. It...</td>\n",
              "      <td>0</td>\n",
              "      <td>0</td>\n",
              "      <td>0</td>\n",
              "      <td>0</td>\n",
              "      <td>0</td>\n",
              "      <td>0</td>\n",
              "    </tr>\n",
              "    <tr>\n",
              "      <th>3</th>\n",
              "      <td>0001b41b1c6bb37e</td>\n",
              "      <td>\"\\nMore\\nI can't make any real suggestions on ...</td>\n",
              "      <td>0</td>\n",
              "      <td>0</td>\n",
              "      <td>0</td>\n",
              "      <td>0</td>\n",
              "      <td>0</td>\n",
              "      <td>0</td>\n",
              "    </tr>\n",
              "    <tr>\n",
              "      <th>4</th>\n",
              "      <td>0001d958c54c6e35</td>\n",
              "      <td>You, sir, are my hero. Any chance you remember...</td>\n",
              "      <td>0</td>\n",
              "      <td>0</td>\n",
              "      <td>0</td>\n",
              "      <td>0</td>\n",
              "      <td>0</td>\n",
              "      <td>0</td>\n",
              "    </tr>\n",
              "    <tr>\n",
              "      <th>5</th>\n",
              "      <td>00025465d4725e87</td>\n",
              "      <td>\"\\n\\nCongratulations from me as well, use the ...</td>\n",
              "      <td>0</td>\n",
              "      <td>0</td>\n",
              "      <td>0</td>\n",
              "      <td>0</td>\n",
              "      <td>0</td>\n",
              "      <td>0</td>\n",
              "    </tr>\n",
              "    <tr>\n",
              "      <th>6</th>\n",
              "      <td>0002bcb3da6cb337</td>\n",
              "      <td>COCKSUCKER BEFORE YOU PISS AROUND ON MY WORK</td>\n",
              "      <td>1</td>\n",
              "      <td>1</td>\n",
              "      <td>1</td>\n",
              "      <td>0</td>\n",
              "      <td>1</td>\n",
              "      <td>0</td>\n",
              "    </tr>\n",
              "    <tr>\n",
              "      <th>7</th>\n",
              "      <td>00031b1e95af7921</td>\n",
              "      <td>Your vandalism to the Matt Shirvington article...</td>\n",
              "      <td>0</td>\n",
              "      <td>0</td>\n",
              "      <td>0</td>\n",
              "      <td>0</td>\n",
              "      <td>0</td>\n",
              "      <td>0</td>\n",
              "    </tr>\n",
              "    <tr>\n",
              "      <th>8</th>\n",
              "      <td>00037261f536c51d</td>\n",
              "      <td>Sorry if the word 'nonsense' was offensive to ...</td>\n",
              "      <td>0</td>\n",
              "      <td>0</td>\n",
              "      <td>0</td>\n",
              "      <td>0</td>\n",
              "      <td>0</td>\n",
              "      <td>0</td>\n",
              "    </tr>\n",
              "    <tr>\n",
              "      <th>9</th>\n",
              "      <td>00040093b2687caa</td>\n",
              "      <td>alignment on this subject and which are contra...</td>\n",
              "      <td>0</td>\n",
              "      <td>0</td>\n",
              "      <td>0</td>\n",
              "      <td>0</td>\n",
              "      <td>0</td>\n",
              "      <td>0</td>\n",
              "    </tr>\n",
              "  </tbody>\n",
              "</table>\n",
              "</div>"
            ],
            "text/plain": [
              "                 id  ... identity_hate\n",
              "0  0000997932d777bf  ...             0\n",
              "1  000103f0d9cfb60f  ...             0\n",
              "2  000113f07ec002fd  ...             0\n",
              "3  0001b41b1c6bb37e  ...             0\n",
              "4  0001d958c54c6e35  ...             0\n",
              "5  00025465d4725e87  ...             0\n",
              "6  0002bcb3da6cb337  ...             0\n",
              "7  00031b1e95af7921  ...             0\n",
              "8  00037261f536c51d  ...             0\n",
              "9  00040093b2687caa  ...             0\n",
              "\n",
              "[10 rows x 8 columns]"
            ]
          },
          "metadata": {
            "tags": []
          },
          "execution_count": 10
        }
      ]
    },
    {
      "cell_type": "code",
      "metadata": {
        "id": "OrDD4f-RQf_X",
        "colab": {
          "base_uri": "https://localhost:8080/",
          "height": 359
        },
        "outputId": "70c38a14-184c-47c9-b0ef-d48bcf7f933f"
      },
      "source": [
        "test_data.head(10)"
      ],
      "execution_count": 11,
      "outputs": [
        {
          "output_type": "execute_result",
          "data": {
            "text/html": [
              "<div>\n",
              "<style scoped>\n",
              "    .dataframe tbody tr th:only-of-type {\n",
              "        vertical-align: middle;\n",
              "    }\n",
              "\n",
              "    .dataframe tbody tr th {\n",
              "        vertical-align: top;\n",
              "    }\n",
              "\n",
              "    .dataframe thead th {\n",
              "        text-align: right;\n",
              "    }\n",
              "</style>\n",
              "<table border=\"1\" class=\"dataframe\">\n",
              "  <thead>\n",
              "    <tr style=\"text-align: right;\">\n",
              "      <th></th>\n",
              "      <th>id</th>\n",
              "      <th>comment_text</th>\n",
              "    </tr>\n",
              "  </thead>\n",
              "  <tbody>\n",
              "    <tr>\n",
              "      <th>0</th>\n",
              "      <td>00001cee341fdb12</td>\n",
              "      <td>Yo bitch Ja Rule is more succesful then you'll...</td>\n",
              "    </tr>\n",
              "    <tr>\n",
              "      <th>1</th>\n",
              "      <td>0000247867823ef7</td>\n",
              "      <td>== From RfC == \\n\\n The title is fine as it is...</td>\n",
              "    </tr>\n",
              "    <tr>\n",
              "      <th>2</th>\n",
              "      <td>00013b17ad220c46</td>\n",
              "      <td>\" \\n\\n == Sources == \\n\\n * Zawe Ashton on Lap...</td>\n",
              "    </tr>\n",
              "    <tr>\n",
              "      <th>3</th>\n",
              "      <td>00017563c3f7919a</td>\n",
              "      <td>:If you have a look back at the source, the in...</td>\n",
              "    </tr>\n",
              "    <tr>\n",
              "      <th>4</th>\n",
              "      <td>00017695ad8997eb</td>\n",
              "      <td>I don't anonymously edit articles at all.</td>\n",
              "    </tr>\n",
              "    <tr>\n",
              "      <th>5</th>\n",
              "      <td>0001ea8717f6de06</td>\n",
              "      <td>Thank you for understanding. I think very high...</td>\n",
              "    </tr>\n",
              "    <tr>\n",
              "      <th>6</th>\n",
              "      <td>00024115d4cbde0f</td>\n",
              "      <td>Please do not add nonsense to Wikipedia. Such ...</td>\n",
              "    </tr>\n",
              "    <tr>\n",
              "      <th>7</th>\n",
              "      <td>000247e83dcc1211</td>\n",
              "      <td>:Dear god this site is horrible.</td>\n",
              "    </tr>\n",
              "    <tr>\n",
              "      <th>8</th>\n",
              "      <td>00025358d4737918</td>\n",
              "      <td>\" \\n Only a fool can believe in such numbers. ...</td>\n",
              "    </tr>\n",
              "    <tr>\n",
              "      <th>9</th>\n",
              "      <td>00026d1092fe71cc</td>\n",
              "      <td>== Double Redirects == \\n\\n When fixing double...</td>\n",
              "    </tr>\n",
              "  </tbody>\n",
              "</table>\n",
              "</div>"
            ],
            "text/plain": [
              "                 id                                       comment_text\n",
              "0  00001cee341fdb12  Yo bitch Ja Rule is more succesful then you'll...\n",
              "1  0000247867823ef7  == From RfC == \\n\\n The title is fine as it is...\n",
              "2  00013b17ad220c46  \" \\n\\n == Sources == \\n\\n * Zawe Ashton on Lap...\n",
              "3  00017563c3f7919a  :If you have a look back at the source, the in...\n",
              "4  00017695ad8997eb          I don't anonymously edit articles at all.\n",
              "5  0001ea8717f6de06  Thank you for understanding. I think very high...\n",
              "6  00024115d4cbde0f  Please do not add nonsense to Wikipedia. Such ...\n",
              "7  000247e83dcc1211                   :Dear god this site is horrible.\n",
              "8  00025358d4737918  \" \\n Only a fool can believe in such numbers. ...\n",
              "9  00026d1092fe71cc  == Double Redirects == \\n\\n When fixing double..."
            ]
          },
          "metadata": {
            "tags": []
          },
          "execution_count": 11
        }
      ]
    },
    {
      "cell_type": "code",
      "metadata": {
        "id": "PPu0HNNIRojS",
        "colab": {
          "base_uri": "https://localhost:8080/",
          "height": 359
        },
        "outputId": "390d0e8b-78b6-4437-9793-3bf7071039a0"
      },
      "source": [
        "test_label.head(10)"
      ],
      "execution_count": 12,
      "outputs": [
        {
          "output_type": "execute_result",
          "data": {
            "text/html": [
              "<div>\n",
              "<style scoped>\n",
              "    .dataframe tbody tr th:only-of-type {\n",
              "        vertical-align: middle;\n",
              "    }\n",
              "\n",
              "    .dataframe tbody tr th {\n",
              "        vertical-align: top;\n",
              "    }\n",
              "\n",
              "    .dataframe thead th {\n",
              "        text-align: right;\n",
              "    }\n",
              "</style>\n",
              "<table border=\"1\" class=\"dataframe\">\n",
              "  <thead>\n",
              "    <tr style=\"text-align: right;\">\n",
              "      <th></th>\n",
              "      <th>id</th>\n",
              "      <th>toxic</th>\n",
              "      <th>severe_toxic</th>\n",
              "      <th>obscene</th>\n",
              "      <th>threat</th>\n",
              "      <th>insult</th>\n",
              "      <th>identity_hate</th>\n",
              "    </tr>\n",
              "  </thead>\n",
              "  <tbody>\n",
              "    <tr>\n",
              "      <th>0</th>\n",
              "      <td>00001cee341fdb12</td>\n",
              "      <td>-1</td>\n",
              "      <td>-1</td>\n",
              "      <td>-1</td>\n",
              "      <td>-1</td>\n",
              "      <td>-1</td>\n",
              "      <td>-1</td>\n",
              "    </tr>\n",
              "    <tr>\n",
              "      <th>1</th>\n",
              "      <td>0000247867823ef7</td>\n",
              "      <td>-1</td>\n",
              "      <td>-1</td>\n",
              "      <td>-1</td>\n",
              "      <td>-1</td>\n",
              "      <td>-1</td>\n",
              "      <td>-1</td>\n",
              "    </tr>\n",
              "    <tr>\n",
              "      <th>2</th>\n",
              "      <td>00013b17ad220c46</td>\n",
              "      <td>-1</td>\n",
              "      <td>-1</td>\n",
              "      <td>-1</td>\n",
              "      <td>-1</td>\n",
              "      <td>-1</td>\n",
              "      <td>-1</td>\n",
              "    </tr>\n",
              "    <tr>\n",
              "      <th>3</th>\n",
              "      <td>00017563c3f7919a</td>\n",
              "      <td>-1</td>\n",
              "      <td>-1</td>\n",
              "      <td>-1</td>\n",
              "      <td>-1</td>\n",
              "      <td>-1</td>\n",
              "      <td>-1</td>\n",
              "    </tr>\n",
              "    <tr>\n",
              "      <th>4</th>\n",
              "      <td>00017695ad8997eb</td>\n",
              "      <td>-1</td>\n",
              "      <td>-1</td>\n",
              "      <td>-1</td>\n",
              "      <td>-1</td>\n",
              "      <td>-1</td>\n",
              "      <td>-1</td>\n",
              "    </tr>\n",
              "    <tr>\n",
              "      <th>5</th>\n",
              "      <td>0001ea8717f6de06</td>\n",
              "      <td>0</td>\n",
              "      <td>0</td>\n",
              "      <td>0</td>\n",
              "      <td>0</td>\n",
              "      <td>0</td>\n",
              "      <td>0</td>\n",
              "    </tr>\n",
              "    <tr>\n",
              "      <th>6</th>\n",
              "      <td>00024115d4cbde0f</td>\n",
              "      <td>-1</td>\n",
              "      <td>-1</td>\n",
              "      <td>-1</td>\n",
              "      <td>-1</td>\n",
              "      <td>-1</td>\n",
              "      <td>-1</td>\n",
              "    </tr>\n",
              "    <tr>\n",
              "      <th>7</th>\n",
              "      <td>000247e83dcc1211</td>\n",
              "      <td>0</td>\n",
              "      <td>0</td>\n",
              "      <td>0</td>\n",
              "      <td>0</td>\n",
              "      <td>0</td>\n",
              "      <td>0</td>\n",
              "    </tr>\n",
              "    <tr>\n",
              "      <th>8</th>\n",
              "      <td>00025358d4737918</td>\n",
              "      <td>-1</td>\n",
              "      <td>-1</td>\n",
              "      <td>-1</td>\n",
              "      <td>-1</td>\n",
              "      <td>-1</td>\n",
              "      <td>-1</td>\n",
              "    </tr>\n",
              "    <tr>\n",
              "      <th>9</th>\n",
              "      <td>00026d1092fe71cc</td>\n",
              "      <td>-1</td>\n",
              "      <td>-1</td>\n",
              "      <td>-1</td>\n",
              "      <td>-1</td>\n",
              "      <td>-1</td>\n",
              "      <td>-1</td>\n",
              "    </tr>\n",
              "  </tbody>\n",
              "</table>\n",
              "</div>"
            ],
            "text/plain": [
              "                 id  toxic  severe_toxic  ...  threat  insult  identity_hate\n",
              "0  00001cee341fdb12     -1            -1  ...      -1      -1             -1\n",
              "1  0000247867823ef7     -1            -1  ...      -1      -1             -1\n",
              "2  00013b17ad220c46     -1            -1  ...      -1      -1             -1\n",
              "3  00017563c3f7919a     -1            -1  ...      -1      -1             -1\n",
              "4  00017695ad8997eb     -1            -1  ...      -1      -1             -1\n",
              "5  0001ea8717f6de06      0             0  ...       0       0              0\n",
              "6  00024115d4cbde0f     -1            -1  ...      -1      -1             -1\n",
              "7  000247e83dcc1211      0             0  ...       0       0              0\n",
              "8  00025358d4737918     -1            -1  ...      -1      -1             -1\n",
              "9  00026d1092fe71cc     -1            -1  ...      -1      -1             -1\n",
              "\n",
              "[10 rows x 7 columns]"
            ]
          },
          "metadata": {
            "tags": []
          },
          "execution_count": 12
        }
      ]
    },
    {
      "cell_type": "code",
      "metadata": {
        "id": "6Vin_PysTFyJ",
        "colab": {
          "base_uri": "https://localhost:8080/",
          "height": 847
        },
        "outputId": "8f3fcf0a-8a3d-43be-ee14-4d9d83acb603"
      },
      "source": [
        "#distribution\n",
        "fig,ax = plt.subplots(2,3,figsize=(16,10))\n",
        "ax1,ax2,ax3,ax4,ax5,ax6 = ax.flatten()\n",
        "sns.countplot(train['toxic'],palette= 'magma',ax=ax1)\n",
        "sns.countplot(train['severe_toxic'], palette= 'viridis',ax=ax2)\n",
        "sns.countplot(train['obscene'], palette= 'Set1',ax=ax3)\n",
        "sns.countplot(train['threat'], palette= 'viridis',ax = ax4)\n",
        "sns.countplot(train['insult'], palette = 'magma',ax=ax5)\n",
        "sns.countplot(train['identity_hate'], palette = 'Set1', ax = ax6)"
      ],
      "execution_count": 9,
      "outputs": [
        {
          "output_type": "stream",
          "text": [
            "/usr/local/lib/python3.6/dist-packages/seaborn/_decorators.py:43: FutureWarning: Pass the following variable as a keyword arg: x. From version 0.12, the only valid positional argument will be `data`, and passing other arguments without an explicit keyword will result in an error or misinterpretation.\n",
            "  FutureWarning\n",
            "/usr/local/lib/python3.6/dist-packages/seaborn/_decorators.py:43: FutureWarning: Pass the following variable as a keyword arg: x. From version 0.12, the only valid positional argument will be `data`, and passing other arguments without an explicit keyword will result in an error or misinterpretation.\n",
            "  FutureWarning\n",
            "/usr/local/lib/python3.6/dist-packages/seaborn/_decorators.py:43: FutureWarning: Pass the following variable as a keyword arg: x. From version 0.12, the only valid positional argument will be `data`, and passing other arguments without an explicit keyword will result in an error or misinterpretation.\n",
            "  FutureWarning\n",
            "/usr/local/lib/python3.6/dist-packages/seaborn/_decorators.py:43: FutureWarning: Pass the following variable as a keyword arg: x. From version 0.12, the only valid positional argument will be `data`, and passing other arguments without an explicit keyword will result in an error or misinterpretation.\n",
            "  FutureWarning\n",
            "/usr/local/lib/python3.6/dist-packages/seaborn/_decorators.py:43: FutureWarning: Pass the following variable as a keyword arg: x. From version 0.12, the only valid positional argument will be `data`, and passing other arguments without an explicit keyword will result in an error or misinterpretation.\n",
            "  FutureWarning\n",
            "/usr/local/lib/python3.6/dist-packages/seaborn/_decorators.py:43: FutureWarning: Pass the following variable as a keyword arg: x. From version 0.12, the only valid positional argument will be `data`, and passing other arguments without an explicit keyword will result in an error or misinterpretation.\n",
            "  FutureWarning\n"
          ],
          "name": "stderr"
        },
        {
          "output_type": "execute_result",
          "data": {
            "text/plain": [
              "<matplotlib.axes._subplots.AxesSubplot at 0x7f557c75fb00>"
            ]
          },
          "metadata": {
            "tags": []
          },
          "execution_count": 9
        },
        {
          "output_type": "display_data",
          "data": {
            "image/png": "[encoded data removed]",
            "text/plain": [
              "<Figure size 1152x720 with 6 Axes>"
            ]
          },
          "metadata": {
            "tags": [],
            "needs_background": "light"
          }
        }
      ]
    },
    {
      "cell_type": "code",
      "metadata": {
        "id": "SHaX2vuEPMvV",
        "colab": {
          "base_uri": "https://localhost:8080/",
          "height": 462
        },
        "outputId": "e09359c0-6c4c-408a-bb73-0583746de646"
      },
      "source": [
        "import numpy as np\n",
        "colors_list = [\"green\", \"purple\",\"pine green\",\"red\", \"brown\",\"yellow\", \"blue\"]\n",
        "palette= sns.xkcd_palette(colors_list)\n",
        "x=train.iloc[:,2:].sum()\n",
        "plt.figure(figsize=(10,6))\n",
        "ax= sns.barplot(x.index, x.values,palette=palette)\n",
        "plt.title(\"Class\")\n",
        "plt.xlabel('Toxicity Type', fontsize = 12)\n",
        "plt.ylabel('Occurrences', fontsize=12)\n",
        "rects = ax.patches\n",
        "labels = x.values\n",
        "\n",
        "rowsums=train.iloc[:,2:].sum(axis=1)\n",
        "\n",
        "\n",
        "    \n",
        "train['clean']=(rowsums==0)\n",
        "\n",
        "train['clean'].sum()\n",
        "train['clean']=np.where(train['clean']==True,1,0)\n",
        "\n",
        "\n",
        "for rect, label in zip(rects, labels):\n",
        "    height = rect.get_height()\n",
        "    ax.text(rect.get_x() + rect.get_width()/2, height + 10, label, \n",
        "            ha='center', va='bottom')\n",
        "\n",
        "plt.show()"
      ],
      "execution_count": 10,
      "outputs": [
        {
          "output_type": "stream",
          "text": [
            "/usr/local/lib/python3.6/dist-packages/seaborn/_decorators.py:43: FutureWarning: Pass the following variables as keyword args: x, y. From version 0.12, the only valid positional argument will be `data`, and passing other arguments without an explicit keyword will result in an error or misinterpretation.\n",
            "  FutureWarning\n"
          ],
          "name": "stderr"
        },
        {
          "output_type": "display_data",
          "data": {
            "image/png": "[encoded data removed]",
            "text/plain": [
              "<Figure size 720x432 with 1 Axes>"
            ]
          },
          "metadata": {
            "tags": [],
            "needs_background": "light"
          }
        }
      ]
    },
    {
      "cell_type": "code",
      "metadata": {
        "id": "wiRNFsgiNFY2",
        "colab": {
          "base_uri": "https://localhost:8080/",
          "height": 596
        },
        "outputId": "a8634415-e53e-4ffb-d130-f024494f4cd3"
      },
      "source": [
        "rowSums = train.iloc[:,2:].sum(axis=1)\n",
        "multiLabel_counts = rowSums.value_counts()\n",
        "multiLabel_counts = multiLabel_counts.iloc[0:]\n",
        "sns.set(font_scale = 2)\n",
        "plt.figure(figsize=(15,8))\n",
        "ax = sns.barplot(multiLabel_counts.index, multiLabel_counts.values)\n",
        "plt.title(\"Comments having multiple labels \")\n",
        "plt.ylabel('Number of comments', fontsize=18)\n",
        "plt.xlabel('Number of labels', fontsize=18)\n",
        "#adding the text labels\n",
        "rects = ax.patches\n",
        "labels = multiLabel_counts.values\n",
        "for rect, label in zip(rects, labels):\n",
        "    height = rect.get_height()\n",
        "    ax.text(rect.get_x() + rect.get_width()/2, height + 5, label, ha='center', va='bottom')\n",
        "plt.show()"
      ],
      "execution_count": 11,
      "outputs": [
        {
          "output_type": "stream",
          "text": [
            "/usr/local/lib/python3.6/dist-packages/seaborn/_decorators.py:43: FutureWarning: Pass the following variables as keyword args: x, y. From version 0.12, the only valid positional argument will be `data`, and passing other arguments without an explicit keyword will result in an error or misinterpretation.\n",
            "  FutureWarning\n"
          ],
          "name": "stderr"
        },
        {
          "output_type": "display_data",
          "data": {
            "image/png": "[encoded data removed]",
            "text/plain": [
              "<Figure size 1080x576 with 1 Axes>"
            ]
          },
          "metadata": {
            "tags": []
          }
        }
      ]
    },
    {
      "cell_type": "code",
      "metadata": {
        "id": "Sh29vGnIUXs3",
        "colab": {
          "base_uri": "https://localhost:8080/"
        },
        "outputId": "bf5b7fac-fbe8-4725-a450-26523fae3b34"
      },
      "source": [
        "checkMissing = pd.DataFrame()\n",
        "checkMissing['train'] = train.isnull().sum()\n",
        "checkMissing['test_data'] = test_data.isnull().sum()\n",
        "print(checkMissing)"
      ],
      "execution_count": 12,
      "outputs": [
        {
          "output_type": "stream",
          "text": [
            "               train  test_data\n",
            "id                 0        0.0\n",
            "comment_text       0        0.0\n",
            "toxic              0        NaN\n",
            "severe_toxic       0        NaN\n",
            "obscene            0        NaN\n",
            "threat             0        NaN\n",
            "insult             0        NaN\n",
            "identity_hate      0        NaN\n",
            "clean              0        NaN\n"
          ],
          "name": "stdout"
        }
      ]
    },
    {
      "cell_type": "code",
      "metadata": {
        "id": "GhkEXhbdVkuQ",
        "colab": {
          "base_uri": "https://localhost:8080/"
        },
        "outputId": "f05038bb-b51d-4fee-bb25-f27a311ab171"
      },
      "source": [
        "#No missing val\n",
        "test_data['comment_text'].isnull().sum()"
      ],
      "execution_count": 13,
      "outputs": [
        {
          "output_type": "execute_result",
          "data": {
            "text/plain": [
              "0"
            ]
          },
          "metadata": {
            "tags": []
          },
          "execution_count": 13
        }
      ]
    },
    {
      "cell_type": "code",
      "metadata": {
        "id": "yphqd9Gnac5B",
        "colab": {
          "base_uri": "https://localhost:8080/"
        },
        "outputId": "4f76cd7d-ace5-4600-d8e3-3b3d7765e508"
      },
      "source": [
        "train.keys()"
      ],
      "execution_count": 14,
      "outputs": [
        {
          "output_type": "execute_result",
          "data": {
            "text/plain": [
              "Index(['id', 'comment_text', 'toxic', 'severe_toxic', 'obscene', 'threat',\n",
              "       'insult', 'identity_hate', 'clean'],\n",
              "      dtype='object')"
            ]
          },
          "metadata": {
            "tags": []
          },
          "execution_count": 14
        }
      ]
    },
    {
      "cell_type": "code",
      "metadata": {
        "id": "RSw7IIkrRBHA"
      },
      "source": [
        "# # Stemming and Lemmatizing \n",
        "# import nltk\n",
        "\n",
        "# nltk.download('wordnet')\n",
        "# from nltk.stem import WordNetLemmatizer, PorterStemmer\n",
        "# lemmatizer = WordNetLemmatizer()\n",
        "# stemmer = PorterStemmer()\n",
        "from nltk.stem.snowball import SnowballStemmer\n",
        "stemmer = SnowballStemmer(\"english\")\n",
        "def stemming(sentence):\n",
        "    stemSentence = \"\"\n",
        "    for word in sentence.split():\n",
        "        stem = stemmer.stem(word)\n",
        "        stemSentence += stem\n",
        "        stemSentence += \" \"\n",
        "    stemSentence = stemSentence.strip()\n",
        "    return stemSentence\n",
        "train['comment_text'] = train['comment_text'].apply(stemming)\n",
        "\n",
        "\n",
        "\n"
      ],
      "execution_count": 15,
      "outputs": []
    },
    {
      "cell_type": "code",
      "metadata": {
        "id": "KT9A_c4ocnW9",
        "colab": {
          "base_uri": "https://localhost:8080/",
          "height": 444
        },
        "outputId": "d7ec1772-03c7-452a-dc3c-70bfed60770f"
      },
      "source": [
        "#lower case\n",
        "train['comment_text'] = train['comment_text'].apply(lambda x:x.lower())\n",
        "test_data['comment_text'] = test_data['comment_text'].apply(lambda x:x.lower())\n",
        "# Get rid of the special charactors\n",
        "train['comment_text'] = train['comment_text'].str.replace('\\W', ' ')\n",
        "test_data['comment_text'] = test_data['comment_text'].str.replace('\\W', ' ')\n",
        "#get rid of the digit\n",
        "train['comment_text']  = train['comment_text'].str.replace(r'\\d+','')\n",
        "test_data['comment_text']  = test_data['comment_text'].str.replace(r'\\d+','')\n",
        "#get rid of the leading space\n",
        "train['comment_text'] = train['comment_text'] .str.strip()\n",
        "test_data['comment_text'] = test_data['comment_text'] .str.strip()\n",
        "train.head(10)\n",
        "#test_data.head(10)"
      ],
      "execution_count": 16,
      "outputs": [
        {
          "output_type": "execute_result",
          "data": {
            "text/html": [
              "<div>\n",
              "<style scoped>\n",
              "    .dataframe tbody tr th:only-of-type {\n",
              "        vertical-align: middle;\n",
              "    }\n",
              "\n",
              "    .dataframe tbody tr th {\n",
              "        vertical-align: top;\n",
              "    }\n",
              "\n",
              "    .dataframe thead th {\n",
              "        text-align: right;\n",
              "    }\n",
              "</style>\n",
              "<table border=\"1\" class=\"dataframe\">\n",
              "  <thead>\n",
              "    <tr style=\"text-align: right;\">\n",
              "      <th></th>\n",
              "      <th>id</th>\n",
              "      <th>comment_text</th>\n",
              "      <th>toxic</th>\n",
              "      <th>severe_toxic</th>\n",
              "      <th>obscene</th>\n",
              "      <th>threat</th>\n",
              "      <th>insult</th>\n",
              "      <th>identity_hate</th>\n",
              "      <th>clean</th>\n",
              "    </tr>\n",
              "  </thead>\n",
              "  <tbody>\n",
              "    <tr>\n",
              "      <th>0</th>\n",
              "      <td>0000997932d777bf</td>\n",
              "      <td>explan whi the edit made under my usernam hard...</td>\n",
              "      <td>0</td>\n",
              "      <td>0</td>\n",
              "      <td>0</td>\n",
              "      <td>0</td>\n",
              "      <td>0</td>\n",
              "      <td>0</td>\n",
              "      <td>1</td>\n",
              "    </tr>\n",
              "    <tr>\n",
              "      <th>1</th>\n",
              "      <td>000103f0d9cfb60f</td>\n",
              "      <td>d aww  he match this background colour i m see...</td>\n",
              "      <td>0</td>\n",
              "      <td>0</td>\n",
              "      <td>0</td>\n",
              "      <td>0</td>\n",
              "      <td>0</td>\n",
              "      <td>0</td>\n",
              "      <td>1</td>\n",
              "    </tr>\n",
              "    <tr>\n",
              "      <th>2</th>\n",
              "      <td>000113f07ec002fd</td>\n",
              "      <td>hey man  i m realli not tri to edit war  it ju...</td>\n",
              "      <td>0</td>\n",
              "      <td>0</td>\n",
              "      <td>0</td>\n",
              "      <td>0</td>\n",
              "      <td>0</td>\n",
              "      <td>0</td>\n",
              "      <td>1</td>\n",
              "    </tr>\n",
              "    <tr>\n",
              "      <th>3</th>\n",
              "      <td>0001b41b1c6bb37e</td>\n",
              "      <td>more i can t make ani real suggest on improv  ...</td>\n",
              "      <td>0</td>\n",
              "      <td>0</td>\n",
              "      <td>0</td>\n",
              "      <td>0</td>\n",
              "      <td>0</td>\n",
              "      <td>0</td>\n",
              "      <td>1</td>\n",
              "    </tr>\n",
              "    <tr>\n",
              "      <th>4</th>\n",
              "      <td>0001d958c54c6e35</td>\n",
              "      <td>you  sir  are my hero  ani chanc you rememb wh...</td>\n",
              "      <td>0</td>\n",
              "      <td>0</td>\n",
              "      <td>0</td>\n",
              "      <td>0</td>\n",
              "      <td>0</td>\n",
              "      <td>0</td>\n",
              "      <td>1</td>\n",
              "    </tr>\n",
              "    <tr>\n",
              "      <th>5</th>\n",
              "      <td>00025465d4725e87</td>\n",
              "      <td>congratul from me as well  use the tool well  ...</td>\n",
              "      <td>0</td>\n",
              "      <td>0</td>\n",
              "      <td>0</td>\n",
              "      <td>0</td>\n",
              "      <td>0</td>\n",
              "      <td>0</td>\n",
              "      <td>1</td>\n",
              "    </tr>\n",
              "    <tr>\n",
              "      <th>6</th>\n",
              "      <td>0002bcb3da6cb337</td>\n",
              "      <td>cocksuck befor you piss around on my work</td>\n",
              "      <td>1</td>\n",
              "      <td>1</td>\n",
              "      <td>1</td>\n",
              "      <td>0</td>\n",
              "      <td>1</td>\n",
              "      <td>0</td>\n",
              "      <td>0</td>\n",
              "    </tr>\n",
              "    <tr>\n",
              "      <th>7</th>\n",
              "      <td>00031b1e95af7921</td>\n",
              "      <td>your vandal to the matt shirvington articl has...</td>\n",
              "      <td>0</td>\n",
              "      <td>0</td>\n",
              "      <td>0</td>\n",
              "      <td>0</td>\n",
              "      <td>0</td>\n",
              "      <td>0</td>\n",
              "      <td>1</td>\n",
              "    </tr>\n",
              "    <tr>\n",
              "      <th>8</th>\n",
              "      <td>00037261f536c51d</td>\n",
              "      <td>sorri if the word nonsens was offens to you  a...</td>\n",
              "      <td>0</td>\n",
              "      <td>0</td>\n",
              "      <td>0</td>\n",
              "      <td>0</td>\n",
              "      <td>0</td>\n",
              "      <td>0</td>\n",
              "      <td>1</td>\n",
              "    </tr>\n",
              "    <tr>\n",
              "      <th>9</th>\n",
              "      <td>00040093b2687caa</td>\n",
              "      <td>align on this subject and which are contrari t...</td>\n",
              "      <td>0</td>\n",
              "      <td>0</td>\n",
              "      <td>0</td>\n",
              "      <td>0</td>\n",
              "      <td>0</td>\n",
              "      <td>0</td>\n",
              "      <td>1</td>\n",
              "    </tr>\n",
              "  </tbody>\n",
              "</table>\n",
              "</div>"
            ],
            "text/plain": [
              "                 id  ... clean\n",
              "0  0000997932d777bf  ...     1\n",
              "1  000103f0d9cfb60f  ...     1\n",
              "2  000113f07ec002fd  ...     1\n",
              "3  0001b41b1c6bb37e  ...     1\n",
              "4  0001d958c54c6e35  ...     1\n",
              "5  00025465d4725e87  ...     1\n",
              "6  0002bcb3da6cb337  ...     0\n",
              "7  00031b1e95af7921  ...     1\n",
              "8  00037261f536c51d  ...     1\n",
              "9  00040093b2687caa  ...     1\n",
              "\n",
              "[10 rows x 9 columns]"
            ]
          },
          "metadata": {
            "tags": []
          },
          "execution_count": 16
        }
      ]
    },
    {
      "cell_type": "markdown",
      "metadata": {
        "id": "GTX8Ei7FYCqD"
      },
      "source": [
        ""
      ]
    },
    {
      "cell_type": "code",
      "metadata": {
        "id": "rTnTzFC4Dq6T",
        "colab": {
          "base_uri": "https://localhost:8080/",
          "height": 649
        },
        "outputId": "4e59aaf1-51c4-4c7a-f8c1-4733caab9012"
      },
      "source": [
        "from pyspark.sql.functions import col, explode, array, lit\n",
        "import random\n",
        "\n",
        "train_binary_classification = pd.concat([train[\"id\"],train[\"comment_text\"],train[\"clean\"]],axis=1)\n",
        "train_binary_classification.head(10)\n",
        "\n",
        "\n",
        "plt.figure(figsize=(12,10))\n",
        "sns.countplot(x='clean', data=train_binary_classification, order=train_binary_classification['clean'].value_counts().index)\n",
        "\n",
        "\n"
      ],
      "execution_count": 17,
      "outputs": [
        {
          "output_type": "execute_result",
          "data": {
            "text/plain": [
              "<matplotlib.axes._subplots.AxesSubplot at 0x7f557fe5f5f8>"
            ]
          },
          "metadata": {
            "tags": []
          },
          "execution_count": 17
        },
        {
          "output_type": "display_data",
          "data": {
            "image/png": "[encoded data removed]",
            "text/plain": [
              "<Figure size 864x720 with 1 Axes>"
            ]
          },
          "metadata": {
            "tags": []
          }
        }
      ]
    },
    {
      "cell_type": "code",
      "metadata": {
        "id": "livgnNo4LKOX"
      },
      "source": [
        "from imblearn.over_sampling import SMOTE\n",
        "def handleImbalancedData(mode,train_classification,label):\n",
        "  if(label==\"clean\"):\n",
        "    count_class_1,count_class_0 = train_classification.clean.value_counts()\n",
        "  elif(label==\"toxic\"):\n",
        "    count_class_0,count_class_1 = train_classification.toxic.value_counts()\n",
        "  elif(label==\"severe_toxic\"):\n",
        "    count_class_0,count_class_1 = train_classification.severe_toxic.value_counts()\n",
        "  elif(label==\"obscene\"):\n",
        "    count_class_0,count_class_1 = train_classification.obscene.value_counts()\n",
        "  elif(label==\"threat\"):\n",
        "    count_class_0,count_class_1 = train_classification.threat.value_counts()\n",
        "  elif(label==\"insult\"):\n",
        "    count_class_0,count_class_1 = train_classification.insult.value_counts()\n",
        "  elif(label==\"identity_hate\"):\n",
        "    count_class_0,count_class_1 = train_classification.identity_hate.value_counts()\n",
        "\n",
        "\n",
        "\n",
        "  print(count_class_1,count_class_0)\n",
        "\n",
        "  # Divide by class\n",
        "  \n",
        "  df_class_0 = train_classification[train_classification[label] == 0]\n",
        "  \n",
        "  df_class_1 = train_classification[train_classification[label] == 1]\n",
        "\n",
        "  if(mode==\"undersampling\"):\n",
        "    # Under sampling majority label\n",
        "    if(label==\"clean\"):\n",
        "      df_class_1_under = df_class_1.sample(count_class_0)\n",
        "      df_test_under = pd.concat([df_class_0, df_class_1_under], axis=0)\n",
        "    if(label!=\"clean\"):\n",
        "      # Under sampling majority label\n",
        "      df_class_0_under = df_class_0.sample(count_class_1)\n",
        "      df_test_under = pd.concat([df_class_0_under, df_class_1], axis=0)\n",
        "\n",
        "    print('Random under-sampling:')\n",
        "    #print(df_test_under.label.value_counts())\n",
        "    # df_test_under.label.value_counts().plot(kind='bar', title='Count');\n",
        "    df_test_under.head(10)\n",
        "    return df_test_under\n",
        "  elif(mode==\"oversampling\"):\n",
        "    # over sampling majority label\n",
        "    if(label==\"clean\"):\n",
        "      df_class_0_over = df_class_0.sample(count_class_1,replace=True)\n",
        "      df_test_over = pd.concat([df_class_0_over, df_class_1], axis=0)\n",
        "    if(label!=\"clean\"):\n",
        "      df_class_1_over = df_class_1.sample(count_class_0,replace=True)\n",
        "      df_test_over = pd.concat([df_class_0,df_class_1_over], axis=0)\n",
        "    \n",
        "\n",
        "    print('Random over-sampling:')\n",
        "\n",
        "    # df_test_over.label.value_counts().plot(kind='bar', title='Count');\n",
        "    # df_test_over.head(10)\n",
        "    return df_test_over \n",
        "\n",
        "\n",
        "  else:\n",
        "    return train_classification\n",
        "  \n",
        "\n",
        "\n",
        "\n"
      ],
      "execution_count": 26,
      "outputs": []
    },
    {
      "cell_type": "markdown",
      "metadata": {
        "id": "hExZiB0t2828"
      },
      "source": [
        "TFIDF(t,d,D)=TF(t,d)⋅IDF(t,D). where IDF(t,D)=log(|D|+1/DF(t,D)+1).\n",
        "TF is the number of times a term occurs within a document. This means that a term has different TF values for different documents of the corpus.\n",
        "DF of a term is the number of documents having this term.Inverse Document Frequency - IDF"
      ]
    },
    {
      "cell_type": "code",
      "metadata": {
        "id": "7tOy9sXsXqw2"
      },
      "source": [
        "\n",
        "from pyspark.sql import SparkSession\n",
        "import pyspark.sql.functions as F\n",
        "import pyspark.sql.types as T\n",
        "from pyspark.ml.classification import LogisticRegression\n",
        "from pyspark.ml.feature import Tokenizer, HashingTF, IDF\n",
        "\n",
        "from pyspark.ml.linalg import Vector\n",
        "from pyspark.ml import Pipeline, PipelineModel\n",
        "from pyspark.ml.tuning import ParamGridBuilder, CrossValidator\n",
        "from pyspark.ml.evaluation import BinaryClassificationEvaluator\n",
        "from pyspark.ml.feature import HashingTF,StopWordsRemover,IDF,Tokenizer\n",
        "from sklearn.linear_model import LogisticRegression\n",
        "from sklearn.pipeline import Pipeline\n",
        "from sklearn.metrics import accuracy_score\n",
        "from sklearn.multiclass import OneVsRestClassifier"
      ],
      "execution_count": 19,
      "outputs": []
    },
    {
      "cell_type": "code",
      "metadata": {
        "id": "qkf1A5dRkCFJ"
      },
      "source": [
        "# import modules for feature transformation\n",
        "from pyspark.ml.linalg import Vector\n",
        "from pyspark.ml import Pipeline, PipelineModel\n",
        "from pyspark.ml.classification import LogisticRegression\n",
        "from pyspark.ml.tuning import ParamGridBuilder, CrossValidator\n",
        "from pyspark.ml.evaluation import BinaryClassificationEvaluator\n",
        "from pyspark.ml.feature import HashingTF,StopWordsRemover,IDF,Tokenizer\n",
        "from pyspark.ml.feature import NGram\n",
        "#Tokenize into words\n",
        "tokenizer = Tokenizer().setInputCol(\"comment_text\").setOutputCol(\"words\")\n",
        "\n",
        "#Remove stopwords\n",
        "remover= StopWordsRemover().setInputCol(\"words\").setOutputCol(\"filtered\").setCaseSensitive(False)\n",
        "\n",
        "#ngram = NGram(n=2, inputCol=\"filtered\", outputCol=\"rawFeatures\")\n",
        "\n",
        "#For each sentence (bag of words),use HashingTF to hash the sentence into a feature vector. \n",
        "hashingTF = HashingTF().setNumFeatures(1000).setInputCol(\"filtered\").setOutputCol(\"rawFeatures\")\n",
        "\n",
        "#Create TF_IDF features\n",
        "idf = IDF().setInputCol(\"rawFeatures\").setOutputCol(\"features\").setMinDocFreq(0)\n",
        "\n",
        "# Create a Logistic regression model\n",
        "lr = LogisticRegression()\n",
        "\n",
        "# Streamline all above steps into a pipeline\n",
        "pipeline=Pipeline(stages=[tokenizer,remover,hashingTF,idf, lr])"
      ],
      "execution_count": 20,
      "outputs": []
    },
    {
      "cell_type": "code",
      "metadata": {
        "id": "bIK1YqXwkvSI",
        "colab": {
          "base_uri": "https://localhost:8080/"
        },
        "outputId": "3019d633-aa7f-4299-d3ab-f5317eaab266"
      },
      "source": [
        "from pyspark.ml.classification import LogisticRegression\n",
        "from pyspark.ml.evaluation import BinaryClassificationEvaluator\n",
        "from pyspark.ml.tuning import ParamGridBuilder, TrainValidationSplit\n",
        "from sklearn.model_selection import train_test_split\n",
        "from pyspark.mllib.evaluation import BinaryClassificationMetrics\n",
        "from sklearn.metrics import confusion_matrix\n",
        "\n",
        "rebalanceDatasetTechnique = [\"undersampling\",\"oversampling\",\"no technique\"] \n",
        "for technique in rebalanceDatasetTechnique:\n",
        "    print('**Processing {} on imbalanced data...**'.format(technique))\n",
        "\n",
        "    df = handleImbalancedData(technique,train_binary_classification,\"clean\")\n",
        "    X_train, X_test, y_train, y_test = train_test_split(pd.concat([df['id'],df['comment_text']],axis=1), df['clean'], test_size=0.2)\n",
        "\n",
        "    training_spark_df_binary = spark.createDataFrame(data=pd.concat([X_train,y_train],axis=1),schema=[\"id\",\"comment_text\",\"label\"])\n",
        "    testing_spark_df_binary = spark.createDataFrame(data=pd.concat([X_test,y_test],axis=1),schema=[\"id\",\"comment_text\",\"label\"])\n",
        "\n",
        "\n",
        "    paramGrid = ParamGridBuilder()\\\n",
        "        .addGrid(hashingTF.numFeatures,[1000,5000,10000])\\\n",
        "        .addGrid(lr.regParam, [0.1, 0.01]) \\\n",
        "        .addGrid(lr.elasticNetParam, [0.0, 0.3, 0.6])\\\n",
        "        .build()\n",
        "\n",
        "    crossval = TrainValidationSplit(estimator=pipeline,\n",
        "                              estimatorParamMaps=paramGrid,\n",
        "                              evaluator=BinaryClassificationEvaluator().setMetricName('areaUnderPR'), # set area Under precision-recall curve as the evaluation metric\n",
        "                              # 80% of the data will be used for training, 20% for validation.\n",
        "                              trainRatio=0.8)\n",
        "\n",
        "    cvModel = crossval.fit(training_spark_df_binary)\n",
        "    # Make predictions\n",
        "    train_prediction = cvModel.transform(training_spark_df_binary)\n",
        "    test_prediction = cvModel.transform(testing_spark_df_binary)\n",
        "\n",
        "    pd_prediction = test_prediction.select(\"*\").toPandas()\n",
        "    actual = pd_prediction[\"label\"].tolist()\n",
        "    pred = pd_prediction[\"prediction\"].tolist()\n",
        "    tn, fp, fn, tp = confusion_matrix(actual, pred).ravel()\n",
        "    print(confusion_matrix(actual, pred))\n",
        "    print(\"true positive rate\",tp / (tp + fp))\n",
        "    print(\"true negative rate\",tn / (tn + fp))\n",
        "\n",
        "\n",
        "\n",
        "    # compute the accuracy score on training data\n",
        "    correct_train = train_prediction.filter(train_prediction.label == train_prediction.prediction).count()  \n",
        "    accuracy_train = correct_train/train_prediction.count() # store the training accuracy score\n",
        "    print('Training set accuracy {:.2%} data items: {}, correct: {}'.format(accuracy_train,train_prediction.count(), correct_train))\n",
        "     \n",
        "    # Caculate the accuracy score for the best model \n",
        "    correct_test = test_prediction.filter(test_prediction.label == test_prediction.prediction).count()  \n",
        "    accuracy_test = correct_test/test_prediction.count()\n",
        "    print('Testing set accuracy {:.2%} data items: {}, correct: {}'.format(accuracy_test, test_prediction.count(), correct_test))"
      ],
      "execution_count": 21,
      "outputs": [
        {
          "output_type": "stream",
          "text": [
            "**Processing undersampling on imbalanced data...**\n",
            "143346 16225\n",
            "Random under-sampling:\n",
            "[[2731  475]\n",
            " [ 834 2450]]\n",
            "true positive rate 0.8376068376068376\n",
            "true negative rate 0.8518402994385527\n",
            "Training set accuracy 84.80% data items: 25960, correct: 22013\n",
            "Testing set accuracy 79.83% data items: 6490, correct: 5181\n",
            "**Processing oversampling on imbalanced data...**\n",
            "143346 16225\n",
            "Random over-sampling:\n",
            "[[26180  2554]\n",
            " [ 5141 23464]]\n",
            "true positive rate 0.901837189637943\n",
            "true negative rate 0.911115751374678\n",
            "Training set accuracy 88.30% data items: 229353, correct: 202514\n",
            "Testing set accuracy 86.58% data items: 57339, correct: 49644\n",
            "**Processing no technique on imbalanced data...**\n",
            "143346 16225\n",
            "[[  320  2935]\n",
            " [   56 28604]]\n",
            "true positive rate 0.9069406132090427\n",
            "true negative rate 0.09831029185867896\n",
            "Training set accuracy 90.92% data items: 127656, correct: 116065\n",
            "Testing set accuracy 90.63% data items: 31915, correct: 28924\n"
          ],
          "name": "stdout"
        }
      ]
    },
    {
      "cell_type": "code",
      "metadata": {
        "id": "91dbGFxmT9ww",
        "colab": {
          "base_uri": "https://localhost:8080/"
        },
        "outputId": "0d76966c-2ea7-49c6-ed67-e9244a7b63ea"
      },
      "source": [
        "\n",
        "category = ['toxic', 'severe_toxic', 'obscene', 'threat', 'insult', 'identity_hate']\n",
        "\n",
        "\n",
        "for col in category:\n",
        "    print('**Processing {} comments...**'.format(col))\n",
        "\n",
        "    train_multiple_classification = pd.concat([train[\"id\"],train[\"comment_text\"],train[col]],axis=1)\n",
        "    df = handleImbalancedData(\"oversampling\",train_multiple_classification,col)\n",
        "    X_train, X_test, y_train, y_test = train_test_split(pd.concat([df['id'],df['comment_text']],axis=1), df[col], test_size=0.2)\n",
        "    \n",
        "    training_spark_df_multi = spark.createDataFrame(data=pd.concat([X_train,y_train],axis=1),schema=[\"id\",\"comment_text\",\"label\"])\n",
        "    testing_spark_df_multi = spark.createDataFrame(data=pd.concat([X_test,y_test],axis=1),schema=[\"id\",\"comment_text\",\"label\"])\n",
        "\n",
        "\n",
        "    paramGrid = ParamGridBuilder()\\\n",
        "        .addGrid(hashingTF.numFeatures,[1000,5000,10000])\\\n",
        "        .addGrid(lr.regParam, [0.1, 0.01]) \\\n",
        "        .addGrid(lr.elasticNetParam, [0.0, 0.3, 0.6])\\\n",
        "        .build()\n",
        "\n",
        "    crossval = TrainValidationSplit(estimator=pipeline,\n",
        "                              estimatorParamMaps=paramGrid,\n",
        "                              evaluator=BinaryClassificationEvaluator().setMetricName('areaUnderPR'), # set area Under precision-recall curve as the evaluation metric\n",
        "                              # 80% of the data will be used for training, 20% for validation.\n",
        "                              trainRatio=0.8)\n",
        "\n",
        "    cvModel = crossval.fit(training_spark_df_multi)\n",
        "\n",
        "\n",
        "    # Make predictions\n",
        "    train_prediction_multi = cvModel.transform(training_spark_df_multi)\n",
        "    test_prediction_multi = cvModel.transform(testing_spark_df_multi)\n",
        "\n",
        "\n",
        "    pd_prediction = test_prediction_multi.select(\"*\").toPandas()\n",
        "    actual = pd_prediction[\"label\"].tolist()\n",
        "    pred = pd_prediction[\"prediction\"].tolist()\n",
        "    tn, fp, fn, tp = confusion_matrix(actual, pred).ravel()\n",
        "    print(confusion_matrix(actual, pred))\n",
        "    print(\"true positive rate\",tp / (tp + fp))\n",
        "    print(\"true negative rate\",tn / (tn + fp))\n",
        "\n",
        "\n",
        "    # compute the accuracy score on training data\n",
        "    correct_train_multi = train_prediction_multi.filter(train_prediction_multi.label == train_prediction_multi.prediction).count()  \n",
        "    accuracy_train_multi = correct_train_multi/train_prediction_multi.count() # store the training accuracy score\n",
        "    print('Training set accuracy {:.2%} data items: {}, correct: {}'.format(accuracy_train_multi,train_prediction_multi.count(), correct_train_multi))\n",
        "\n",
        "    # Caculate the accuracy score for the best model \n",
        "    correct_test_multi = test_prediction_multi.filter(test_prediction_multi.label == test_prediction_multi.prediction).count()  \n",
        "    accuracy_test_multi = correct_test_multi/test_prediction_multi.count()\n",
        "    print('Testing set accuracy {:.2%} data items: {}, correct: {}'.format(accuracy_test_multi, test_prediction_multi.count(), correct_test_multi))"
      ],
      "execution_count": 27,
      "outputs": [
        {
          "output_type": "stream",
          "text": [
            "**Processing toxic comments...**\n",
            "15294 144277\n",
            "Random over-sampling:\n",
            "[[23612  5078]\n",
            " [ 2318 26703]]\n",
            "true positive rate 0.8402189987728517\n",
            "true negative rate 0.8230045311955385\n",
            "Training set accuracy 88.71% data items: 230843, correct: 204773\n",
            "Testing set accuracy 87.18% data items: 57711, correct: 50315\n",
            "**Processing severe_toxic comments...**\n",
            "1595 157976\n",
            "Random over-sampling:\n",
            "[[28995  2628]\n",
            " [  108 31460]]\n",
            "true positive rate 0.9229054212626144\n",
            "true negative rate 0.9168959301774026\n",
            "Training set accuracy 96.22% data items: 252761, correct: 243199\n",
            "Testing set accuracy 95.67% data items: 63191, correct: 60455\n",
            "**Processing obscene comments...**\n",
            "8449 151122\n",
            "Random over-sampling:\n",
            "[[25108  4990]\n",
            " [ 1345 29006]]\n",
            "true positive rate 0.8532180256500764\n",
            "true negative rate 0.8342082530400691\n",
            "Training set accuracy 90.63% data items: 241795, correct: 219142\n",
            "Testing set accuracy 89.52% data items: 60449, correct: 54114\n",
            "**Processing threat comments...**\n",
            "478 159093\n",
            "Random over-sampling:\n",
            "[[30926   816]\n",
            " [  741 31155]]\n",
            "true positive rate 0.9744768696631322\n",
            "true negative rate 0.9742927351773675\n",
            "Training set accuracy 97.85% data items: 254548, correct: 249071\n",
            "Testing set accuracy 97.55% data items: 63638, correct: 62081\n",
            "**Processing insult comments...**\n",
            "7877 151694\n",
            "Random over-sampling:\n",
            "[[25713  4692]\n",
            " [ 1075 29198]]\n",
            "true positive rate 0.8615520802596636\n",
            "true negative rate 0.8456832757770104\n",
            "Training set accuracy 91.61% data items: 242710, correct: 222337\n",
            "Testing set accuracy 90.50% data items: 60678, correct: 54911\n",
            "**Processing identity_hate comments...**\n",
            "1405 158166\n",
            "Random over-sampling:\n",
            "[[29650  2096]\n",
            " [  298 31223]]\n",
            "true positive rate 0.9370929499684865\n",
            "true negative rate 0.9339759339759339\n",
            "Training set accuracy 96.75% data items: 253065, correct: 244838\n",
            "Testing set accuracy 96.22% data items: 63267, correct: 60873\n"
          ],
          "name": "stdout"
        }
      ]
    }
  ]
}