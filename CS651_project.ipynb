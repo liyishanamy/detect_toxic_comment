{
  "nbformat": 4,
  "nbformat_minor": 0,
  "metadata": {
    "colab": {
      "name": "CS651_project",
      "provenance": [],
      "collapsed_sections": [],
      "toc_visible": true
    },
    "kernelspec": {
      "name": "python3",
      "display_name": "Python 3"
    }
  },
  "cells": [
    {
      "cell_type": "markdown",
      "metadata": {
        "id": "dwqKU-PhhC58"
      },
      "source": [
        "#[Apache Spark 3.0.0 with Google Colab](http://apache.osuosl.org/spark/spark-3.0.0/)\n",
        "\n",
        "**Author: MA Raza**\n",
        "\n",
        "This is the working google collaboratory notebook example of setting up  recently release spark 3.0.0 in google colab. \n",
        "\n",
        "* Installing Java in the Google Colaboratory\n",
        "* Setting up Spark 3.0 in the Google Colaboratory\n",
        "* A test example\n",
        "\n",
        "**References:**\n",
        "\n",
        "1. http://apache.osuosl.org/spark/spark-3.0.0/\n",
        "2. https://medium.com/@sushantgautam_930/apache-spark-in-google-collaboratory-in-3-steps-e0acbba654e6\n",
        "3. https://notebooks.gesis.org/binder/jupyter/user/databricks-koalas-kuv5qckt/notebooks/docs/source/getting_started/10min.ipynb\n",
        "4. https://medium.com/@amjadraza24/getting-started-spark3-0-0-with-google-colab-9796d350d78\n",
        "\n"
      ]
    },
    {
      "cell_type": "markdown",
      "metadata": {
        "id": "2COZzvqcf-Pg"
      },
      "source": [
        "# Setting up Spark 3.0.0 in the Google Colaboratory\n",
        "\n",
        "This notebook comprises the instructions to run Sprak and pyspark in google colabboratory framework. \n",
        "\n",
        "We will be running the excises of  some basic functions on using koalas\n",
        "\n",
        "We will install below programs\n",
        "\n",
        "* Java 8\n",
        "* spark-3.0.0\n",
        "* Hadoop3.2 \n",
        "* [Findspark](https://github.com/minrk/findspark)\n",
        "\n",
        "\n",
        "This installs Apache Spark 3.0.0, Java 8, and [Findspark](https://github.com/minrk/findspark), a library that makes it easy for Python to find Spark.\n",
        "\n",
        "Run below set of commands to install spark. \n",
        "\n",
        "**Change the location/version of spark version of your choice**\n",
        "\n",
        "**[Apache Spark in Google Collaboratory In 3 steps.](https://medium.com/@sushantgautam_930/apache-spark-in-google-collaboratory-in-3-steps-e0acbba654e6)**\n",
        "\n",
        "> Make sure the spark-version you are downloading is availbale on target link\n",
        "\n"
      ]
    },
    {
      "cell_type": "code",
      "metadata": {
        "id": "3MZdDu9LhLwN"
      },
      "source": [
        "# Run below commands\n",
        "!apt-get install openjdk-8-jdk-headless -qq > /dev/null\n",
        "!wget -q http://apache.osuosl.org/spark/spark-3.0.1/spark-3.0.1-bin-hadoop2.7.tgz\n",
        "!tar xf spark-3.0.1-bin-hadoop2.7.tgz\n",
        "!pip install -q findspark"
      ],
      "execution_count": 2,
      "outputs": []
    },
    {
      "cell_type": "code",
      "metadata": {
        "id": "yKbDZzlDe_aT",
        "outputId": "ef7776a3-caeb-4681-b925-bfb6eccc16c5",
        "colab": {
          "base_uri": "https://localhost:8080/"
        }
      },
      "source": [
        "!ls -a"
      ],
      "execution_count": 4,
      "outputs": [
        {
          "output_type": "stream",
          "text": [
            ".\t sample_data\t\t\tspark-3.0.1-bin-hadoop2.7.tgz.1\n",
            "..\t sample_submission.csv\t\ttest.csv\n",
            ".config  spark-3.0.1-bin-hadoop2.7\ttest_labels.csv\n",
            "drive\t spark-3.0.1-bin-hadoop2.7.tgz\ttrain.csv\n"
          ],
          "name": "stdout"
        }
      ]
    },
    {
      "cell_type": "code",
      "metadata": {
        "id": "sit9TX0chlNF"
      },
      "source": [
        "import os\n",
        "os.environ[\"JAVA_HOME\"] = \"/usr/lib/jvm/java-8-openjdk-amd64\"\n",
        "os.environ[\"SPARK_HOME\"] = \"/content/spark-3.0.1-bin-hadoop2.7\""
      ],
      "execution_count": 3,
      "outputs": []
    },
    {
      "cell_type": "markdown",
      "metadata": {
        "id": "da7M2Wi1jC1c"
      },
      "source": [
        "## Spark Installation test\n",
        "Lets test the installation of spark in our google colab environment. "
      ]
    },
    {
      "cell_type": "code",
      "metadata": {
        "id": "Y18KVg34jkXj",
        "outputId": "74502327-04a0-4825-ea83-23515ddb7e43",
        "colab": {
          "base_uri": "https://localhost:8080/"
        }
      },
      "source": [
        "import findspark\n",
        "findspark.init()\n",
        "\n",
        "from pyspark.sql import SparkSession\n",
        "\n",
        "spark = SparkSession.builder.master(\"local[*]\").getOrCreate()\n",
        "# Test the spark \n",
        "df = spark.createDataFrame([{\"hello\": \"world\"} for x in range(1000)])\n",
        "\n",
        "df.show(3, False)\n"
      ],
      "execution_count": 5,
      "outputs": [
        {
          "output_type": "stream",
          "text": [
            "/content/spark-3.0.1-bin-hadoop2.7/python/pyspark/sql/session.py:381: UserWarning: inferring schema from dict is deprecated,please use pyspark.sql.Row instead\n",
            "  warnings.warn(\"inferring schema from dict is deprecated,\"\n"
          ],
          "name": "stderr"
        },
        {
          "output_type": "stream",
          "text": [
            "+-----+\n",
            "|hello|\n",
            "+-----+\n",
            "|world|\n",
            "|world|\n",
            "|world|\n",
            "+-----+\n",
            "only showing top 3 rows\n",
            "\n"
          ],
          "name": "stdout"
        }
      ]
    },
    {
      "cell_type": "code",
      "metadata": {
        "id": "pe6Mlcs29vX-",
        "outputId": "10159699-f063-457a-e497-ea7f9ac806aa",
        "colab": {
          "base_uri": "https://localhost:8080/"
        }
      },
      "source": [
        "# Check the pyspark version\n",
        "import pyspark\n",
        "print(pyspark.__version__)"
      ],
      "execution_count": 6,
      "outputs": [
        {
          "output_type": "stream",
          "text": [
            "3.0.1\n"
          ],
          "name": "stdout"
        }
      ]
    },
    {
      "cell_type": "code",
      "metadata": {
        "id": "K969euO2AHC2",
        "outputId": "8b74d933-64a0-4dcb-9388-a0ed32f2572c",
        "colab": {
          "base_uri": "https://localhost:8080/"
        }
      },
      "source": [
        "from google.colab import drive\n",
        "drive.mount('/content/drive')"
      ],
      "execution_count": 7,
      "outputs": [
        {
          "output_type": "stream",
          "text": [
            "Drive already mounted at /content/drive; to attempt to forcibly remount, call drive.mount(\"/content/drive\", force_remount=True).\n"
          ],
          "name": "stdout"
        }
      ]
    },
    {
      "cell_type": "code",
      "metadata": {
        "id": "enye5sUFCYpR",
        "outputId": "f19a5fa8-14be-44f3-c6bd-ebbcfd8b9222",
        "colab": {
          "base_uri": "https://localhost:8080/"
        }
      },
      "source": [
        "!unzip \"/content/drive/My Drive/mgc_dataset/CS651Final/jigsaw-toxic-comment-classification-challenge/*.zip\" -d \"/content/drive/My Drive/mgc_dataset/CS651Final/jigsaw-toxic-comment-classification-challenge/\""
      ],
      "execution_count": 8,
      "outputs": [
        {
          "output_type": "stream",
          "text": [
            "Archive:  /content/drive/My Drive/mgc_dataset/CS651Final/jigsaw-toxic-comment-classification-challenge/sample_submission.csv.zip\n",
            "replace /content/drive/My Drive/mgc_dataset/CS651Final/jigsaw-toxic-comment-classification-challenge/sample_submission.csv? [y]es, [n]o, [A]ll, [N]one, [r]ename: "
          ],
          "name": "stdout"
        }
      ]
    },
    {
      "cell_type": "code",
      "metadata": {
        "id": "P99BG0cAFRN4"
      },
      "source": [
        "import pandas as pd\n",
        "import pyspark\n",
        "from pyspark.sql import SparkSession\n",
        "import pyspark.sql.functions as F\n",
        "import pyspark.sql.types as T\n",
        "from pyspark.ml.feature import Tokenizer, HashingTF, IDF\n",
        "from pyspark.ml.classification import LogisticRegression\n",
        "import matplotlib.pyplot as plt\n",
        "import seaborn as sns\n",
        "from pyspark.ml.feature import StopWordsRemover \n",
        "from pyspark.ml import Pipeline\n",
        "from pyspark.sql import SQLContext"
      ],
      "execution_count": 31,
      "outputs": []
    },
    {
      "cell_type": "code",
      "metadata": {
        "id": "Qtfw-1lYHMYy",
        "outputId": "72578285-d05d-4257-976b-c25892a29978",
        "colab": {
          "base_uri": "https://localhost:8080/"
        }
      },
      "source": [
        "class_names = ['toxic', 'severe_toxic', 'obscene', 'threat', 'insult', 'identity_hate']\n",
        "TRAIN_FILE = \"/content/drive/My Drive/mgc_dataset/CS651Final/jigsaw-toxic-comment-classification-challenge/train.csv\"\n",
        "TEST_DATA_FILE = \"/content/drive/My Drive/mgc_dataset/CS651Final/jigsaw-toxic-comment-classification-challenge/test.csv\"\n",
        "TEST_LABEL = \"/content/drive/My Drive/mgc_dataset/CS651Final/jigsaw-toxic-comment-classification-challenge/test_labels.csv\"\n",
        "\n",
        "train = pd.read_csv(TRAIN_FILE)\n",
        "test_data = pd.read_csv(TEST_DATA_FILE)\n",
        "test_label =  pd.read_csv(TEST_LABEL)\n",
        "print(\"training data shape\",train.shape)\n",
        "print(\"testing data shape\",test_data.shape)\n",
        "print(\"testing data label shape\",test_label.shape)"
      ],
      "execution_count": 24,
      "outputs": [
        {
          "output_type": "stream",
          "text": [
            "training data shape (159571, 8)\n",
            "testing data shape (153164, 2)\n",
            "testing data label shape (153164, 7)\n"
          ],
          "name": "stdout"
        }
      ]
    },
    {
      "cell_type": "code",
      "metadata": {
        "id": "lrFnV61iOCbe",
        "outputId": "6a9d7ba0-6002-4496-f6f2-023fc6f39e62",
        "colab": {
          "base_uri": "https://localhost:8080/",
          "height": 376
        }
      },
      "source": [
        "train.head(10)"
      ],
      "execution_count": 11,
      "outputs": [
        {
          "output_type": "execute_result",
          "data": {
            "text/html": [
              "<div>\n",
              "<style scoped>\n",
              "    .dataframe tbody tr th:only-of-type {\n",
              "        vertical-align: middle;\n",
              "    }\n",
              "\n",
              "    .dataframe tbody tr th {\n",
              "        vertical-align: top;\n",
              "    }\n",
              "\n",
              "    .dataframe thead th {\n",
              "        text-align: right;\n",
              "    }\n",
              "</style>\n",
              "<table border=\"1\" class=\"dataframe\">\n",
              "  <thead>\n",
              "    <tr style=\"text-align: right;\">\n",
              "      <th></th>\n",
              "      <th>id</th>\n",
              "      <th>comment_text</th>\n",
              "      <th>toxic</th>\n",
              "      <th>severe_toxic</th>\n",
              "      <th>obscene</th>\n",
              "      <th>threat</th>\n",
              "      <th>insult</th>\n",
              "      <th>identity_hate</th>\n",
              "    </tr>\n",
              "  </thead>\n",
              "  <tbody>\n",
              "    <tr>\n",
              "      <th>0</th>\n",
              "      <td>0000997932d777bf</td>\n",
              "      <td>Explanation\\nWhy the edits made under my usern...</td>\n",
              "      <td>0</td>\n",
              "      <td>0</td>\n",
              "      <td>0</td>\n",
              "      <td>0</td>\n",
              "      <td>0</td>\n",
              "      <td>0</td>\n",
              "    </tr>\n",
              "    <tr>\n",
              "      <th>1</th>\n",
              "      <td>000103f0d9cfb60f</td>\n",
              "      <td>D'aww! He matches this background colour I'm s...</td>\n",
              "      <td>0</td>\n",
              "      <td>0</td>\n",
              "      <td>0</td>\n",
              "      <td>0</td>\n",
              "      <td>0</td>\n",
              "      <td>0</td>\n",
              "    </tr>\n",
              "    <tr>\n",
              "      <th>2</th>\n",
              "      <td>000113f07ec002fd</td>\n",
              "      <td>Hey man, I'm really not trying to edit war. It...</td>\n",
              "      <td>0</td>\n",
              "      <td>0</td>\n",
              "      <td>0</td>\n",
              "      <td>0</td>\n",
              "      <td>0</td>\n",
              "      <td>0</td>\n",
              "    </tr>\n",
              "    <tr>\n",
              "      <th>3</th>\n",
              "      <td>0001b41b1c6bb37e</td>\n",
              "      <td>\"\\nMore\\nI can't make any real suggestions on ...</td>\n",
              "      <td>0</td>\n",
              "      <td>0</td>\n",
              "      <td>0</td>\n",
              "      <td>0</td>\n",
              "      <td>0</td>\n",
              "      <td>0</td>\n",
              "    </tr>\n",
              "    <tr>\n",
              "      <th>4</th>\n",
              "      <td>0001d958c54c6e35</td>\n",
              "      <td>You, sir, are my hero. Any chance you remember...</td>\n",
              "      <td>0</td>\n",
              "      <td>0</td>\n",
              "      <td>0</td>\n",
              "      <td>0</td>\n",
              "      <td>0</td>\n",
              "      <td>0</td>\n",
              "    </tr>\n",
              "    <tr>\n",
              "      <th>5</th>\n",
              "      <td>00025465d4725e87</td>\n",
              "      <td>\"\\n\\nCongratulations from me as well, use the ...</td>\n",
              "      <td>0</td>\n",
              "      <td>0</td>\n",
              "      <td>0</td>\n",
              "      <td>0</td>\n",
              "      <td>0</td>\n",
              "      <td>0</td>\n",
              "    </tr>\n",
              "    <tr>\n",
              "      <th>6</th>\n",
              "      <td>0002bcb3da6cb337</td>\n",
              "      <td>COCKSUCKER BEFORE YOU PISS AROUND ON MY WORK</td>\n",
              "      <td>1</td>\n",
              "      <td>1</td>\n",
              "      <td>1</td>\n",
              "      <td>0</td>\n",
              "      <td>1</td>\n",
              "      <td>0</td>\n",
              "    </tr>\n",
              "    <tr>\n",
              "      <th>7</th>\n",
              "      <td>00031b1e95af7921</td>\n",
              "      <td>Your vandalism to the Matt Shirvington article...</td>\n",
              "      <td>0</td>\n",
              "      <td>0</td>\n",
              "      <td>0</td>\n",
              "      <td>0</td>\n",
              "      <td>0</td>\n",
              "      <td>0</td>\n",
              "    </tr>\n",
              "    <tr>\n",
              "      <th>8</th>\n",
              "      <td>00037261f536c51d</td>\n",
              "      <td>Sorry if the word 'nonsense' was offensive to ...</td>\n",
              "      <td>0</td>\n",
              "      <td>0</td>\n",
              "      <td>0</td>\n",
              "      <td>0</td>\n",
              "      <td>0</td>\n",
              "      <td>0</td>\n",
              "    </tr>\n",
              "    <tr>\n",
              "      <th>9</th>\n",
              "      <td>00040093b2687caa</td>\n",
              "      <td>alignment on this subject and which are contra...</td>\n",
              "      <td>0</td>\n",
              "      <td>0</td>\n",
              "      <td>0</td>\n",
              "      <td>0</td>\n",
              "      <td>0</td>\n",
              "      <td>0</td>\n",
              "    </tr>\n",
              "  </tbody>\n",
              "</table>\n",
              "</div>"
            ],
            "text/plain": [
              "                 id  ... identity_hate\n",
              "0  0000997932d777bf  ...             0\n",
              "1  000103f0d9cfb60f  ...             0\n",
              "2  000113f07ec002fd  ...             0\n",
              "3  0001b41b1c6bb37e  ...             0\n",
              "4  0001d958c54c6e35  ...             0\n",
              "5  00025465d4725e87  ...             0\n",
              "6  0002bcb3da6cb337  ...             0\n",
              "7  00031b1e95af7921  ...             0\n",
              "8  00037261f536c51d  ...             0\n",
              "9  00040093b2687caa  ...             0\n",
              "\n",
              "[10 rows x 8 columns]"
            ]
          },
          "metadata": {
            "tags": []
          },
          "execution_count": 11
        }
      ]
    },
    {
      "cell_type": "code",
      "metadata": {
        "id": "OrDD4f-RQf_X",
        "outputId": "72d20d08-af30-491f-a823-6ba4906d6313",
        "colab": {
          "base_uri": "https://localhost:8080/",
          "height": 359
        }
      },
      "source": [
        "test_data.head(10)"
      ],
      "execution_count": 28,
      "outputs": [
        {
          "output_type": "execute_result",
          "data": {
            "text/html": [
              "<div>\n",
              "<style scoped>\n",
              "    .dataframe tbody tr th:only-of-type {\n",
              "        vertical-align: middle;\n",
              "    }\n",
              "\n",
              "    .dataframe tbody tr th {\n",
              "        vertical-align: top;\n",
              "    }\n",
              "\n",
              "    .dataframe thead th {\n",
              "        text-align: right;\n",
              "    }\n",
              "</style>\n",
              "<table border=\"1\" class=\"dataframe\">\n",
              "  <thead>\n",
              "    <tr style=\"text-align: right;\">\n",
              "      <th></th>\n",
              "      <th>id</th>\n",
              "      <th>comment_text</th>\n",
              "    </tr>\n",
              "  </thead>\n",
              "  <tbody>\n",
              "    <tr>\n",
              "      <th>0</th>\n",
              "      <td>00001cee341fdb12</td>\n",
              "      <td>Yo bitch Ja Rule is more succesful then you'll...</td>\n",
              "    </tr>\n",
              "    <tr>\n",
              "      <th>1</th>\n",
              "      <td>0000247867823ef7</td>\n",
              "      <td>== From RfC == \\n\\n The title is fine as it is...</td>\n",
              "    </tr>\n",
              "    <tr>\n",
              "      <th>2</th>\n",
              "      <td>00013b17ad220c46</td>\n",
              "      <td>\" \\n\\n == Sources == \\n\\n * Zawe Ashton on Lap...</td>\n",
              "    </tr>\n",
              "    <tr>\n",
              "      <th>3</th>\n",
              "      <td>00017563c3f7919a</td>\n",
              "      <td>:If you have a look back at the source, the in...</td>\n",
              "    </tr>\n",
              "    <tr>\n",
              "      <th>4</th>\n",
              "      <td>00017695ad8997eb</td>\n",
              "      <td>I don't anonymously edit articles at all.</td>\n",
              "    </tr>\n",
              "    <tr>\n",
              "      <th>5</th>\n",
              "      <td>0001ea8717f6de06</td>\n",
              "      <td>Thank you for understanding. I think very high...</td>\n",
              "    </tr>\n",
              "    <tr>\n",
              "      <th>6</th>\n",
              "      <td>00024115d4cbde0f</td>\n",
              "      <td>Please do not add nonsense to Wikipedia. Such ...</td>\n",
              "    </tr>\n",
              "    <tr>\n",
              "      <th>7</th>\n",
              "      <td>000247e83dcc1211</td>\n",
              "      <td>:Dear god this site is horrible.</td>\n",
              "    </tr>\n",
              "    <tr>\n",
              "      <th>8</th>\n",
              "      <td>00025358d4737918</td>\n",
              "      <td>\" \\n Only a fool can believe in such numbers. ...</td>\n",
              "    </tr>\n",
              "    <tr>\n",
              "      <th>9</th>\n",
              "      <td>00026d1092fe71cc</td>\n",
              "      <td>== Double Redirects == \\n\\n When fixing double...</td>\n",
              "    </tr>\n",
              "  </tbody>\n",
              "</table>\n",
              "</div>"
            ],
            "text/plain": [
              "                 id                                       comment_text\n",
              "0  00001cee341fdb12  Yo bitch Ja Rule is more succesful then you'll...\n",
              "1  0000247867823ef7  == From RfC == \\n\\n The title is fine as it is...\n",
              "2  00013b17ad220c46  \" \\n\\n == Sources == \\n\\n * Zawe Ashton on Lap...\n",
              "3  00017563c3f7919a  :If you have a look back at the source, the in...\n",
              "4  00017695ad8997eb          I don't anonymously edit articles at all.\n",
              "5  0001ea8717f6de06  Thank you for understanding. I think very high...\n",
              "6  00024115d4cbde0f  Please do not add nonsense to Wikipedia. Such ...\n",
              "7  000247e83dcc1211                   :Dear god this site is horrible.\n",
              "8  00025358d4737918  \" \\n Only a fool can believe in such numbers. ...\n",
              "9  00026d1092fe71cc  == Double Redirects == \\n\\n When fixing double..."
            ]
          },
          "metadata": {
            "tags": []
          },
          "execution_count": 28
        }
      ]
    },
    {
      "cell_type": "code",
      "metadata": {
        "id": "PPu0HNNIRojS",
        "outputId": "2966ce02-5580-4a59-d585-631f4cbefa3c",
        "colab": {
          "base_uri": "https://localhost:8080/",
          "height": 359
        }
      },
      "source": [
        "test_label.head(10)"
      ],
      "execution_count": 29,
      "outputs": [
        {
          "output_type": "execute_result",
          "data": {
            "text/html": [
              "<div>\n",
              "<style scoped>\n",
              "    .dataframe tbody tr th:only-of-type {\n",
              "        vertical-align: middle;\n",
              "    }\n",
              "\n",
              "    .dataframe tbody tr th {\n",
              "        vertical-align: top;\n",
              "    }\n",
              "\n",
              "    .dataframe thead th {\n",
              "        text-align: right;\n",
              "    }\n",
              "</style>\n",
              "<table border=\"1\" class=\"dataframe\">\n",
              "  <thead>\n",
              "    <tr style=\"text-align: right;\">\n",
              "      <th></th>\n",
              "      <th>id</th>\n",
              "      <th>toxic</th>\n",
              "      <th>severe_toxic</th>\n",
              "      <th>obscene</th>\n",
              "      <th>threat</th>\n",
              "      <th>insult</th>\n",
              "      <th>identity_hate</th>\n",
              "    </tr>\n",
              "  </thead>\n",
              "  <tbody>\n",
              "    <tr>\n",
              "      <th>0</th>\n",
              "      <td>00001cee341fdb12</td>\n",
              "      <td>-1</td>\n",
              "      <td>-1</td>\n",
              "      <td>-1</td>\n",
              "      <td>-1</td>\n",
              "      <td>-1</td>\n",
              "      <td>-1</td>\n",
              "    </tr>\n",
              "    <tr>\n",
              "      <th>1</th>\n",
              "      <td>0000247867823ef7</td>\n",
              "      <td>-1</td>\n",
              "      <td>-1</td>\n",
              "      <td>-1</td>\n",
              "      <td>-1</td>\n",
              "      <td>-1</td>\n",
              "      <td>-1</td>\n",
              "    </tr>\n",
              "    <tr>\n",
              "      <th>2</th>\n",
              "      <td>00013b17ad220c46</td>\n",
              "      <td>-1</td>\n",
              "      <td>-1</td>\n",
              "      <td>-1</td>\n",
              "      <td>-1</td>\n",
              "      <td>-1</td>\n",
              "      <td>-1</td>\n",
              "    </tr>\n",
              "    <tr>\n",
              "      <th>3</th>\n",
              "      <td>00017563c3f7919a</td>\n",
              "      <td>-1</td>\n",
              "      <td>-1</td>\n",
              "      <td>-1</td>\n",
              "      <td>-1</td>\n",
              "      <td>-1</td>\n",
              "      <td>-1</td>\n",
              "    </tr>\n",
              "    <tr>\n",
              "      <th>4</th>\n",
              "      <td>00017695ad8997eb</td>\n",
              "      <td>-1</td>\n",
              "      <td>-1</td>\n",
              "      <td>-1</td>\n",
              "      <td>-1</td>\n",
              "      <td>-1</td>\n",
              "      <td>-1</td>\n",
              "    </tr>\n",
              "    <tr>\n",
              "      <th>5</th>\n",
              "      <td>0001ea8717f6de06</td>\n",
              "      <td>0</td>\n",
              "      <td>0</td>\n",
              "      <td>0</td>\n",
              "      <td>0</td>\n",
              "      <td>0</td>\n",
              "      <td>0</td>\n",
              "    </tr>\n",
              "    <tr>\n",
              "      <th>6</th>\n",
              "      <td>00024115d4cbde0f</td>\n",
              "      <td>-1</td>\n",
              "      <td>-1</td>\n",
              "      <td>-1</td>\n",
              "      <td>-1</td>\n",
              "      <td>-1</td>\n",
              "      <td>-1</td>\n",
              "    </tr>\n",
              "    <tr>\n",
              "      <th>7</th>\n",
              "      <td>000247e83dcc1211</td>\n",
              "      <td>0</td>\n",
              "      <td>0</td>\n",
              "      <td>0</td>\n",
              "      <td>0</td>\n",
              "      <td>0</td>\n",
              "      <td>0</td>\n",
              "    </tr>\n",
              "    <tr>\n",
              "      <th>8</th>\n",
              "      <td>00025358d4737918</td>\n",
              "      <td>-1</td>\n",
              "      <td>-1</td>\n",
              "      <td>-1</td>\n",
              "      <td>-1</td>\n",
              "      <td>-1</td>\n",
              "      <td>-1</td>\n",
              "    </tr>\n",
              "    <tr>\n",
              "      <th>9</th>\n",
              "      <td>00026d1092fe71cc</td>\n",
              "      <td>-1</td>\n",
              "      <td>-1</td>\n",
              "      <td>-1</td>\n",
              "      <td>-1</td>\n",
              "      <td>-1</td>\n",
              "      <td>-1</td>\n",
              "    </tr>\n",
              "  </tbody>\n",
              "</table>\n",
              "</div>"
            ],
            "text/plain": [
              "                 id  toxic  severe_toxic  ...  threat  insult  identity_hate\n",
              "0  00001cee341fdb12     -1            -1  ...      -1      -1             -1\n",
              "1  0000247867823ef7     -1            -1  ...      -1      -1             -1\n",
              "2  00013b17ad220c46     -1            -1  ...      -1      -1             -1\n",
              "3  00017563c3f7919a     -1            -1  ...      -1      -1             -1\n",
              "4  00017695ad8997eb     -1            -1  ...      -1      -1             -1\n",
              "5  0001ea8717f6de06      0             0  ...       0       0              0\n",
              "6  00024115d4cbde0f     -1            -1  ...      -1      -1             -1\n",
              "7  000247e83dcc1211      0             0  ...       0       0              0\n",
              "8  00025358d4737918     -1            -1  ...      -1      -1             -1\n",
              "9  00026d1092fe71cc     -1            -1  ...      -1      -1             -1\n",
              "\n",
              "[10 rows x 7 columns]"
            ]
          },
          "metadata": {
            "tags": []
          },
          "execution_count": 29
        }
      ]
    },
    {
      "cell_type": "code",
      "metadata": {
        "id": "6Vin_PysTFyJ",
        "outputId": "5e27549a-b2a7-4c54-db1a-98bb6457de7e",
        "colab": {
          "base_uri": "https://localhost:8080/",
          "height": 847
        }
      },
      "source": [
        "#distribution\n",
        "fig,ax = plt.subplots(2,3,figsize=(16,10))\n",
        "ax1,ax2,ax3,ax4,ax5,ax6 = ax.flatten()\n",
        "sns.countplot(train['toxic'],palette= 'magma',ax=ax1)\n",
        "sns.countplot(train['severe_toxic'], palette= 'viridis',ax=ax2)\n",
        "sns.countplot(train['obscene'], palette= 'Set1',ax=ax3)\n",
        "sns.countplot(train['threat'], palette= 'viridis',ax = ax4)\n",
        "sns.countplot(train['insult'], palette = 'magma',ax=ax5)\n",
        "sns.countplot(train['identity_hate'], palette = 'Set1', ax = ax6)"
      ],
      "execution_count": 36,
      "outputs": [
        {
          "output_type": "stream",
          "text": [
            "/usr/local/lib/python3.6/dist-packages/seaborn/_decorators.py:43: FutureWarning: Pass the following variable as a keyword arg: x. From version 0.12, the only valid positional argument will be `data`, and passing other arguments without an explicit keyword will result in an error or misinterpretation.\n",
            "  FutureWarning\n",
            "/usr/local/lib/python3.6/dist-packages/seaborn/_decorators.py:43: FutureWarning: Pass the following variable as a keyword arg: x. From version 0.12, the only valid positional argument will be `data`, and passing other arguments without an explicit keyword will result in an error or misinterpretation.\n",
            "  FutureWarning\n",
            "/usr/local/lib/python3.6/dist-packages/seaborn/_decorators.py:43: FutureWarning: Pass the following variable as a keyword arg: x. From version 0.12, the only valid positional argument will be `data`, and passing other arguments without an explicit keyword will result in an error or misinterpretation.\n",
            "  FutureWarning\n",
            "/usr/local/lib/python3.6/dist-packages/seaborn/_decorators.py:43: FutureWarning: Pass the following variable as a keyword arg: x. From version 0.12, the only valid positional argument will be `data`, and passing other arguments without an explicit keyword will result in an error or misinterpretation.\n",
            "  FutureWarning\n",
            "/usr/local/lib/python3.6/dist-packages/seaborn/_decorators.py:43: FutureWarning: Pass the following variable as a keyword arg: x. From version 0.12, the only valid positional argument will be `data`, and passing other arguments without an explicit keyword will result in an error or misinterpretation.\n",
            "  FutureWarning\n",
            "/usr/local/lib/python3.6/dist-packages/seaborn/_decorators.py:43: FutureWarning: Pass the following variable as a keyword arg: x. From version 0.12, the only valid positional argument will be `data`, and passing other arguments without an explicit keyword will result in an error or misinterpretation.\n",
            "  FutureWarning\n"
          ],
          "name": "stderr"
        },
        {
          "output_type": "execute_result",
          "data": {
            "text/plain": [
              "<matplotlib.axes._subplots.AxesSubplot at 0x7f0f3590de80>"
            ]
          },
          "metadata": {
            "tags": []
          },
          "execution_count": 36
        },
        {
          "output_type": "display_data",
          "data": {
            "image/png": "[encoded data removed]",
            "text/plain": [
              "<Figure size 1152x720 with 6 Axes>"
            ]
          },
          "metadata": {
            "tags": [],
            "needs_background": "light"
          }
        }
      ]
    },
    {
      "cell_type": "code",
      "metadata": {
        "id": "SHaX2vuEPMvV",
        "outputId": "9fa79732-53e2-4054-c086-0583238980dc",
        "colab": {
          "base_uri": "https://localhost:8080/",
          "height": 462
        }
      },
      "source": [
        "\n",
        "colors_list = [\"green\", \"purple\",\"pine green\",\"red\", \"brown\",\"yellow\", \"blue\"]\n",
        "palette= sns.xkcd_palette(colors_list)\n",
        "x=train.iloc[:,2:].sum()\n",
        "plt.figure(figsize=(10,6))\n",
        "ax= sns.barplot(x.index, x.values,palette=palette)\n",
        "plt.title(\"Class\")\n",
        "plt.xlabel('Toxicity Type', fontsize = 12)\n",
        "plt.ylabel('Occurrences', fontsize=12)\n",
        "rects = ax.patches\n",
        "labels = x.values\n",
        "for rect, label in zip(rects, labels):\n",
        "    height = rect.get_height()\n",
        "    ax.text(rect.get_x() + rect.get_width()/2, height + 10, label, \n",
        "            ha='center', va='bottom')\n",
        "\n",
        "plt.show()"
      ],
      "execution_count": 80,
      "outputs": [
        {
          "output_type": "stream",
          "text": [
            "/usr/local/lib/python3.6/dist-packages/seaborn/_decorators.py:43: FutureWarning: Pass the following variables as keyword args: x, y. From version 0.12, the only valid positional argument will be `data`, and passing other arguments without an explicit keyword will result in an error or misinterpretation.\n",
            "  FutureWarning\n"
          ],
          "name": "stderr"
        },
        {
          "output_type": "display_data",
          "data": {
            "image/png": "[encoded data removed]",
            "text/plain": [
              "<Figure size 720x432 with 1 Axes>"
            ]
          },
          "metadata": {
            "tags": [],
            "needs_background": "light"
          }
        }
      ]
    },
    {
      "cell_type": "code",
      "metadata": {
        "id": "Sh29vGnIUXs3",
        "outputId": "bb9b99d8-e43e-49dd-9327-68d1f7bdd687",
        "colab": {
          "base_uri": "https://localhost:8080/"
        }
      },
      "source": [
        "checkMissing = pd.DataFrame()\n",
        "checkMissing['train'] = train.isnull().sum()\n",
        "checkMissing['test_data'] = test_data.isnull().sum()\n",
        "print(checkMissing)"
      ],
      "execution_count": 40,
      "outputs": [
        {
          "output_type": "stream",
          "text": [
            "               train  test_data\n",
            "id                 0        0.0\n",
            "comment_text       0        0.0\n",
            "toxic              0        NaN\n",
            "severe_toxic       0        NaN\n",
            "obscene            0        NaN\n",
            "threat             0        NaN\n",
            "insult             0        NaN\n",
            "identity_hate      0        NaN\n"
          ],
          "name": "stdout"
        }
      ]
    },
    {
      "cell_type": "code",
      "metadata": {
        "id": "GhkEXhbdVkuQ",
        "outputId": "2f82be77-15d6-4721-fe04-510db4ece5e4",
        "colab": {
          "base_uri": "https://localhost:8080/"
        }
      },
      "source": [
        "#No missing val\n",
        "test_data['comment_text'].isnull().sum()"
      ],
      "execution_count": 45,
      "outputs": [
        {
          "output_type": "execute_result",
          "data": {
            "text/plain": [
              "0"
            ]
          },
          "metadata": {
            "tags": []
          },
          "execution_count": 45
        }
      ]
    },
    {
      "cell_type": "code",
      "metadata": {
        "id": "yphqd9Gnac5B",
        "outputId": "be75f5cc-9b48-421d-ea3c-f793e5bf53dc",
        "colab": {
          "base_uri": "https://localhost:8080/"
        }
      },
      "source": [
        "train.keys()"
      ],
      "execution_count": 71,
      "outputs": [
        {
          "output_type": "execute_result",
          "data": {
            "text/plain": [
              "Index(['id', 'comment_text', 'toxic', 'severe_toxic', 'obscene', 'threat',\n",
              "       'insult', 'identity_hate'],\n",
              "      dtype='object')"
            ]
          },
          "metadata": {
            "tags": []
          },
          "execution_count": 71
        }
      ]
    },
    {
      "cell_type": "code",
      "metadata": {
        "id": "RSw7IIkrRBHA",
        "outputId": "af9b5f70-08bb-48d5-ace0-66da2716c8a9",
        "colab": {
          "base_uri": "https://localhost:8080/"
        }
      },
      "source": [
        "# Stemming and Lemmatizing \n",
        "import nltk\n",
        "\n",
        "nltk.download('wordnet')\n",
        "from nltk.stem import WordNetLemmatizer, PorterStemmer\n",
        "lemmatizer = WordNetLemmatizer()\n",
        "stemmer = PorterStemmer()\n",
        "\n",
        "\n",
        "\n",
        "\n"
      ],
      "execution_count": 102,
      "outputs": [
        {
          "output_type": "stream",
          "text": [
            "[nltk_data] Downloading package wordnet to /root/nltk_data...\n",
            "[nltk_data]   Package wordnet is already up-to-date!\n"
          ],
          "name": "stdout"
        }
      ]
    },
    {
      "cell_type": "code",
      "metadata": {
        "id": "KT9A_c4ocnW9",
        "outputId": "b2d3e14e-450a-4feb-d31e-98dbe80b24ef",
        "colab": {
          "base_uri": "https://localhost:8080/",
          "height": 427
        }
      },
      "source": [
        "#lower case\n",
        "train['comment_text'] = train['comment_text'].apply(lambda x:x.lower())\n",
        "test_data['comment_text'] = test_data['comment_text'].apply(lambda x:x.lower())\n",
        "# Get rid of the special charactors\n",
        "train['comment_text'] = train['comment_text'].str.replace('\\W', ' ')\n",
        "test_data['comment_text'] = test_data['comment_text'].str.replace('\\W', ' ')\n",
        "#get rid of the digit\n",
        "train['comment_text']  = train['comment_text'].str.replace(r'\\d+','')\n",
        "test_data['comment_text']  = test_data['comment_text'].str.replace(r'\\d+','')\n",
        "#get rid of the leading space\n",
        "train['comment_text'] = train['comment_text'] .str.strip()\n",
        "test_data['comment_text'] = test_data['comment_text'] .str.strip()\n",
        "train.head(10)"
      ],
      "execution_count": 96,
      "outputs": [
        {
          "output_type": "execute_result",
          "data": {
            "text/html": [
              "<div>\n",
              "<style scoped>\n",
              "    .dataframe tbody tr th:only-of-type {\n",
              "        vertical-align: middle;\n",
              "    }\n",
              "\n",
              "    .dataframe tbody tr th {\n",
              "        vertical-align: top;\n",
              "    }\n",
              "\n",
              "    .dataframe thead th {\n",
              "        text-align: right;\n",
              "    }\n",
              "</style>\n",
              "<table border=\"1\" class=\"dataframe\">\n",
              "  <thead>\n",
              "    <tr style=\"text-align: right;\">\n",
              "      <th></th>\n",
              "      <th>id</th>\n",
              "      <th>comment_text</th>\n",
              "      <th>toxic</th>\n",
              "      <th>severe_toxic</th>\n",
              "      <th>obscene</th>\n",
              "      <th>threat</th>\n",
              "      <th>insult</th>\n",
              "      <th>identity_hate</th>\n",
              "      <th>clean</th>\n",
              "    </tr>\n",
              "  </thead>\n",
              "  <tbody>\n",
              "    <tr>\n",
              "      <th>0</th>\n",
              "      <td>0000997932d777bf</td>\n",
              "      <td>explanation edits made username hardcore metal...</td>\n",
              "      <td>0</td>\n",
              "      <td>0</td>\n",
              "      <td>0</td>\n",
              "      <td>0</td>\n",
              "      <td>0</td>\n",
              "      <td>0</td>\n",
              "      <td>True</td>\n",
              "    </tr>\n",
              "    <tr>\n",
              "      <th>1</th>\n",
              "      <td>000103f0d9cfb60f</td>\n",
              "      <td>aww matches background colour seemingly stuck ...</td>\n",
              "      <td>0</td>\n",
              "      <td>0</td>\n",
              "      <td>0</td>\n",
              "      <td>0</td>\n",
              "      <td>0</td>\n",
              "      <td>0</td>\n",
              "      <td>True</td>\n",
              "    </tr>\n",
              "    <tr>\n",
              "      <th>2</th>\n",
              "      <td>000113f07ec002fd</td>\n",
              "      <td>hey man really trying edit war guy constantly ...</td>\n",
              "      <td>0</td>\n",
              "      <td>0</td>\n",
              "      <td>0</td>\n",
              "      <td>0</td>\n",
              "      <td>0</td>\n",
              "      <td>0</td>\n",
              "      <td>True</td>\n",
              "    </tr>\n",
              "    <tr>\n",
              "      <th>3</th>\n",
              "      <td>0001b41b1c6bb37e</td>\n",
              "      <td>make real suggestions improvement wondered sec...</td>\n",
              "      <td>0</td>\n",
              "      <td>0</td>\n",
              "      <td>0</td>\n",
              "      <td>0</td>\n",
              "      <td>0</td>\n",
              "      <td>0</td>\n",
              "      <td>True</td>\n",
              "    </tr>\n",
              "    <tr>\n",
              "      <th>4</th>\n",
              "      <td>0001d958c54c6e35</td>\n",
              "      <td>sir hero chance remember page</td>\n",
              "      <td>0</td>\n",
              "      <td>0</td>\n",
              "      <td>0</td>\n",
              "      <td>0</td>\n",
              "      <td>0</td>\n",
              "      <td>0</td>\n",
              "      <td>True</td>\n",
              "    </tr>\n",
              "    <tr>\n",
              "      <th>5</th>\n",
              "      <td>00025465d4725e87</td>\n",
              "      <td>congratulations well use tools well talk</td>\n",
              "      <td>0</td>\n",
              "      <td>0</td>\n",
              "      <td>0</td>\n",
              "      <td>0</td>\n",
              "      <td>0</td>\n",
              "      <td>0</td>\n",
              "      <td>True</td>\n",
              "    </tr>\n",
              "    <tr>\n",
              "      <th>6</th>\n",
              "      <td>0002bcb3da6cb337</td>\n",
              "      <td>cocksucker piss around work</td>\n",
              "      <td>1</td>\n",
              "      <td>1</td>\n",
              "      <td>1</td>\n",
              "      <td>0</td>\n",
              "      <td>1</td>\n",
              "      <td>0</td>\n",
              "      <td>False</td>\n",
              "    </tr>\n",
              "    <tr>\n",
              "      <th>7</th>\n",
              "      <td>00031b1e95af7921</td>\n",
              "      <td>vandalism matt shirvington article reverted pl...</td>\n",
              "      <td>0</td>\n",
              "      <td>0</td>\n",
              "      <td>0</td>\n",
              "      <td>0</td>\n",
              "      <td>0</td>\n",
              "      <td>0</td>\n",
              "      <td>True</td>\n",
              "    </tr>\n",
              "    <tr>\n",
              "      <th>8</th>\n",
              "      <td>00037261f536c51d</td>\n",
              "      <td>sorry word nonsense offensive anyway intending...</td>\n",
              "      <td>0</td>\n",
              "      <td>0</td>\n",
              "      <td>0</td>\n",
              "      <td>0</td>\n",
              "      <td>0</td>\n",
              "      <td>0</td>\n",
              "      <td>True</td>\n",
              "    </tr>\n",
              "    <tr>\n",
              "      <th>9</th>\n",
              "      <td>00040093b2687caa</td>\n",
              "      <td>alignment subject contrary dulithgow</td>\n",
              "      <td>0</td>\n",
              "      <td>0</td>\n",
              "      <td>0</td>\n",
              "      <td>0</td>\n",
              "      <td>0</td>\n",
              "      <td>0</td>\n",
              "      <td>True</td>\n",
              "    </tr>\n",
              "  </tbody>\n",
              "</table>\n",
              "</div>"
            ],
            "text/plain": [
              "                 id  ...  clean\n",
              "0  0000997932d777bf  ...   True\n",
              "1  000103f0d9cfb60f  ...   True\n",
              "2  000113f07ec002fd  ...   True\n",
              "3  0001b41b1c6bb37e  ...   True\n",
              "4  0001d958c54c6e35  ...   True\n",
              "5  00025465d4725e87  ...   True\n",
              "6  0002bcb3da6cb337  ...  False\n",
              "7  00031b1e95af7921  ...   True\n",
              "8  00037261f536c51d  ...   True\n",
              "9  00040093b2687caa  ...   True\n",
              "\n",
              "[10 rows x 9 columns]"
            ]
          },
          "metadata": {
            "tags": []
          },
          "execution_count": 96
        }
      ]
    },
    {
      "cell_type": "code",
      "metadata": {
        "id": "cQAJOuYfOY4x",
        "outputId": "af298231-01ba-4714-e6bb-b5ae982233d2",
        "colab": {
          "base_uri": "https://localhost:8080/",
          "height": 427
        }
      },
      "source": [
        "# finding all the rows where the sum of labels is zero i.e the comment is a Clean comment\n",
        "rowsums=train.iloc[:,2:].sum(axis=1)\n",
        "train['clean']=(rowsums==0)\n",
        "train['clean'].sum()\n",
        "train.head(10)"
      ],
      "execution_count": 79,
      "outputs": [
        {
          "output_type": "execute_result",
          "data": {
            "text/html": [
              "<div>\n",
              "<style scoped>\n",
              "    .dataframe tbody tr th:only-of-type {\n",
              "        vertical-align: middle;\n",
              "    }\n",
              "\n",
              "    .dataframe tbody tr th {\n",
              "        vertical-align: top;\n",
              "    }\n",
              "\n",
              "    .dataframe thead th {\n",
              "        text-align: right;\n",
              "    }\n",
              "</style>\n",
              "<table border=\"1\" class=\"dataframe\">\n",
              "  <thead>\n",
              "    <tr style=\"text-align: right;\">\n",
              "      <th></th>\n",
              "      <th>id</th>\n",
              "      <th>comment_text</th>\n",
              "      <th>toxic</th>\n",
              "      <th>severe_toxic</th>\n",
              "      <th>obscene</th>\n",
              "      <th>threat</th>\n",
              "      <th>insult</th>\n",
              "      <th>identity_hate</th>\n",
              "      <th>clean</th>\n",
              "    </tr>\n",
              "  </thead>\n",
              "  <tbody>\n",
              "    <tr>\n",
              "      <th>0</th>\n",
              "      <td>0000997932d777bf</td>\n",
              "      <td>explanation edits made username hardcore metal...</td>\n",
              "      <td>0</td>\n",
              "      <td>0</td>\n",
              "      <td>0</td>\n",
              "      <td>0</td>\n",
              "      <td>0</td>\n",
              "      <td>0</td>\n",
              "      <td>True</td>\n",
              "    </tr>\n",
              "    <tr>\n",
              "      <th>1</th>\n",
              "      <td>000103f0d9cfb60f</td>\n",
              "      <td>aww matches background colour seemingly stuck ...</td>\n",
              "      <td>0</td>\n",
              "      <td>0</td>\n",
              "      <td>0</td>\n",
              "      <td>0</td>\n",
              "      <td>0</td>\n",
              "      <td>0</td>\n",
              "      <td>True</td>\n",
              "    </tr>\n",
              "    <tr>\n",
              "      <th>2</th>\n",
              "      <td>000113f07ec002fd</td>\n",
              "      <td>hey man really trying edit war guy constantly ...</td>\n",
              "      <td>0</td>\n",
              "      <td>0</td>\n",
              "      <td>0</td>\n",
              "      <td>0</td>\n",
              "      <td>0</td>\n",
              "      <td>0</td>\n",
              "      <td>True</td>\n",
              "    </tr>\n",
              "    <tr>\n",
              "      <th>3</th>\n",
              "      <td>0001b41b1c6bb37e</td>\n",
              "      <td>make real suggestions improvement wondered sec...</td>\n",
              "      <td>0</td>\n",
              "      <td>0</td>\n",
              "      <td>0</td>\n",
              "      <td>0</td>\n",
              "      <td>0</td>\n",
              "      <td>0</td>\n",
              "      <td>True</td>\n",
              "    </tr>\n",
              "    <tr>\n",
              "      <th>4</th>\n",
              "      <td>0001d958c54c6e35</td>\n",
              "      <td>sir hero chance remember page</td>\n",
              "      <td>0</td>\n",
              "      <td>0</td>\n",
              "      <td>0</td>\n",
              "      <td>0</td>\n",
              "      <td>0</td>\n",
              "      <td>0</td>\n",
              "      <td>True</td>\n",
              "    </tr>\n",
              "    <tr>\n",
              "      <th>5</th>\n",
              "      <td>00025465d4725e87</td>\n",
              "      <td>congratulations well use tools well talk</td>\n",
              "      <td>0</td>\n",
              "      <td>0</td>\n",
              "      <td>0</td>\n",
              "      <td>0</td>\n",
              "      <td>0</td>\n",
              "      <td>0</td>\n",
              "      <td>True</td>\n",
              "    </tr>\n",
              "    <tr>\n",
              "      <th>6</th>\n",
              "      <td>0002bcb3da6cb337</td>\n",
              "      <td>cocksucker piss around work</td>\n",
              "      <td>1</td>\n",
              "      <td>1</td>\n",
              "      <td>1</td>\n",
              "      <td>0</td>\n",
              "      <td>1</td>\n",
              "      <td>0</td>\n",
              "      <td>False</td>\n",
              "    </tr>\n",
              "    <tr>\n",
              "      <th>7</th>\n",
              "      <td>00031b1e95af7921</td>\n",
              "      <td>vandalism matt shirvington article reverted pl...</td>\n",
              "      <td>0</td>\n",
              "      <td>0</td>\n",
              "      <td>0</td>\n",
              "      <td>0</td>\n",
              "      <td>0</td>\n",
              "      <td>0</td>\n",
              "      <td>True</td>\n",
              "    </tr>\n",
              "    <tr>\n",
              "      <th>8</th>\n",
              "      <td>00037261f536c51d</td>\n",
              "      <td>sorry word nonsense offensive anyway intending...</td>\n",
              "      <td>0</td>\n",
              "      <td>0</td>\n",
              "      <td>0</td>\n",
              "      <td>0</td>\n",
              "      <td>0</td>\n",
              "      <td>0</td>\n",
              "      <td>True</td>\n",
              "    </tr>\n",
              "    <tr>\n",
              "      <th>9</th>\n",
              "      <td>00040093b2687caa</td>\n",
              "      <td>alignment subject contrary dulithgow</td>\n",
              "      <td>0</td>\n",
              "      <td>0</td>\n",
              "      <td>0</td>\n",
              "      <td>0</td>\n",
              "      <td>0</td>\n",
              "      <td>0</td>\n",
              "      <td>True</td>\n",
              "    </tr>\n",
              "  </tbody>\n",
              "</table>\n",
              "</div>"
            ],
            "text/plain": [
              "                 id  ...  clean\n",
              "0  0000997932d777bf  ...   True\n",
              "1  000103f0d9cfb60f  ...   True\n",
              "2  000113f07ec002fd  ...   True\n",
              "3  0001b41b1c6bb37e  ...   True\n",
              "4  0001d958c54c6e35  ...   True\n",
              "5  00025465d4725e87  ...   True\n",
              "6  0002bcb3da6cb337  ...  False\n",
              "7  00031b1e95af7921  ...   True\n",
              "8  00037261f536c51d  ...   True\n",
              "9  00040093b2687caa  ...   True\n",
              "\n",
              "[10 rows x 9 columns]"
            ]
          },
          "metadata": {
            "tags": []
          },
          "execution_count": 79
        }
      ]
    },
    {
      "cell_type": "markdown",
      "metadata": {
        "id": "GTX8Ei7FYCqD"
      },
      "source": [
        ""
      ]
    },
    {
      "cell_type": "code",
      "metadata": {
        "id": "RfyvupXAg94O",
        "outputId": "36ebb8cc-a39f-4033-8cba-1ce21a894695",
        "colab": {
          "base_uri": "https://localhost:8080/",
          "height": 464
        }
      },
      "source": [
        "import nltk\n",
        "# Remove the stop words\n",
        "from nltk.corpus import stopwords\n",
        "print(stopwords.words('english'))\n",
        "stop_words = set(stopwords.words('english')) \n",
        "train['comment_text'] = train['comment_text'].apply(lambda x: ' '.join([word for word in x.split() if word not in (stop)]))\n",
        "\n",
        "train.head(10)"
      ],
      "execution_count": 109,
      "outputs": [
        {
          "output_type": "stream",
          "text": [
            "['i', 'me', 'my', 'myself', 'we', 'our', 'ours', 'ourselves', 'you', \"you're\", \"you've\", \"you'll\", \"you'd\", 'your', 'yours', 'yourself', 'yourselves', 'he', 'him', 'his', 'himself', 'she', \"she's\", 'her', 'hers', 'herself', 'it', \"it's\", 'its', 'itself', 'they', 'them', 'their', 'theirs', 'themselves', 'what', 'which', 'who', 'whom', 'this', 'that', \"that'll\", 'these', 'those', 'am', 'is', 'are', 'was', 'were', 'be', 'been', 'being', 'have', 'has', 'had', 'having', 'do', 'does', 'did', 'doing', 'a', 'an', 'the', 'and', 'but', 'if', 'or', 'because', 'as', 'until', 'while', 'of', 'at', 'by', 'for', 'with', 'about', 'against', 'between', 'into', 'through', 'during', 'before', 'after', 'above', 'below', 'to', 'from', 'up', 'down', 'in', 'out', 'on', 'off', 'over', 'under', 'again', 'further', 'then', 'once', 'here', 'there', 'when', 'where', 'why', 'how', 'all', 'any', 'both', 'each', 'few', 'more', 'most', 'other', 'some', 'such', 'no', 'nor', 'not', 'only', 'own', 'same', 'so', 'than', 'too', 'very', 's', 't', 'can', 'will', 'just', 'don', \"don't\", 'should', \"should've\", 'now', 'd', 'll', 'm', 'o', 're', 've', 'y', 'ain', 'aren', \"aren't\", 'couldn', \"couldn't\", 'didn', \"didn't\", 'doesn', \"doesn't\", 'hadn', \"hadn't\", 'hasn', \"hasn't\", 'haven', \"haven't\", 'isn', \"isn't\", 'ma', 'mightn', \"mightn't\", 'mustn', \"mustn't\", 'needn', \"needn't\", 'shan', \"shan't\", 'shouldn', \"shouldn't\", 'wasn', \"wasn't\", 'weren', \"weren't\", 'won', \"won't\", 'wouldn', \"wouldn't\"]\n"
          ],
          "name": "stdout"
        },
        {
          "output_type": "execute_result",
          "data": {
            "text/html": [
              "<div>\n",
              "<style scoped>\n",
              "    .dataframe tbody tr th:only-of-type {\n",
              "        vertical-align: middle;\n",
              "    }\n",
              "\n",
              "    .dataframe tbody tr th {\n",
              "        vertical-align: top;\n",
              "    }\n",
              "\n",
              "    .dataframe thead th {\n",
              "        text-align: right;\n",
              "    }\n",
              "</style>\n",
              "<table border=\"1\" class=\"dataframe\">\n",
              "  <thead>\n",
              "    <tr style=\"text-align: right;\">\n",
              "      <th></th>\n",
              "      <th>id</th>\n",
              "      <th>comment_text</th>\n",
              "      <th>toxic</th>\n",
              "      <th>severe_toxic</th>\n",
              "      <th>obscene</th>\n",
              "      <th>threat</th>\n",
              "      <th>insult</th>\n",
              "      <th>identity_hate</th>\n",
              "      <th>clean</th>\n",
              "    </tr>\n",
              "  </thead>\n",
              "  <tbody>\n",
              "    <tr>\n",
              "      <th>0</th>\n",
              "      <td>0000997932d777bf</td>\n",
              "      <td>explanation edits made username hardcore metal...</td>\n",
              "      <td>0</td>\n",
              "      <td>0</td>\n",
              "      <td>0</td>\n",
              "      <td>0</td>\n",
              "      <td>0</td>\n",
              "      <td>0</td>\n",
              "      <td>True</td>\n",
              "    </tr>\n",
              "    <tr>\n",
              "      <th>1</th>\n",
              "      <td>000103f0d9cfb60f</td>\n",
              "      <td>aww matches background colour seemingly stuck ...</td>\n",
              "      <td>0</td>\n",
              "      <td>0</td>\n",
              "      <td>0</td>\n",
              "      <td>0</td>\n",
              "      <td>0</td>\n",
              "      <td>0</td>\n",
              "      <td>True</td>\n",
              "    </tr>\n",
              "    <tr>\n",
              "      <th>2</th>\n",
              "      <td>000113f07ec002fd</td>\n",
              "      <td>hey man really trying edit war guy constantly ...</td>\n",
              "      <td>0</td>\n",
              "      <td>0</td>\n",
              "      <td>0</td>\n",
              "      <td>0</td>\n",
              "      <td>0</td>\n",
              "      <td>0</td>\n",
              "      <td>True</td>\n",
              "    </tr>\n",
              "    <tr>\n",
              "      <th>3</th>\n",
              "      <td>0001b41b1c6bb37e</td>\n",
              "      <td>make real suggestions improvement wondered sec...</td>\n",
              "      <td>0</td>\n",
              "      <td>0</td>\n",
              "      <td>0</td>\n",
              "      <td>0</td>\n",
              "      <td>0</td>\n",
              "      <td>0</td>\n",
              "      <td>True</td>\n",
              "    </tr>\n",
              "    <tr>\n",
              "      <th>4</th>\n",
              "      <td>0001d958c54c6e35</td>\n",
              "      <td>sir hero chance remember page</td>\n",
              "      <td>0</td>\n",
              "      <td>0</td>\n",
              "      <td>0</td>\n",
              "      <td>0</td>\n",
              "      <td>0</td>\n",
              "      <td>0</td>\n",
              "      <td>True</td>\n",
              "    </tr>\n",
              "    <tr>\n",
              "      <th>5</th>\n",
              "      <td>00025465d4725e87</td>\n",
              "      <td>congratulations well use tools well talk</td>\n",
              "      <td>0</td>\n",
              "      <td>0</td>\n",
              "      <td>0</td>\n",
              "      <td>0</td>\n",
              "      <td>0</td>\n",
              "      <td>0</td>\n",
              "      <td>True</td>\n",
              "    </tr>\n",
              "    <tr>\n",
              "      <th>6</th>\n",
              "      <td>0002bcb3da6cb337</td>\n",
              "      <td>cocksucker piss around work</td>\n",
              "      <td>1</td>\n",
              "      <td>1</td>\n",
              "      <td>1</td>\n",
              "      <td>0</td>\n",
              "      <td>1</td>\n",
              "      <td>0</td>\n",
              "      <td>False</td>\n",
              "    </tr>\n",
              "    <tr>\n",
              "      <th>7</th>\n",
              "      <td>00031b1e95af7921</td>\n",
              "      <td>vandalism matt shirvington article reverted pl...</td>\n",
              "      <td>0</td>\n",
              "      <td>0</td>\n",
              "      <td>0</td>\n",
              "      <td>0</td>\n",
              "      <td>0</td>\n",
              "      <td>0</td>\n",
              "      <td>True</td>\n",
              "    </tr>\n",
              "    <tr>\n",
              "      <th>8</th>\n",
              "      <td>00037261f536c51d</td>\n",
              "      <td>sorry word nonsense offensive anyway intending...</td>\n",
              "      <td>0</td>\n",
              "      <td>0</td>\n",
              "      <td>0</td>\n",
              "      <td>0</td>\n",
              "      <td>0</td>\n",
              "      <td>0</td>\n",
              "      <td>True</td>\n",
              "    </tr>\n",
              "    <tr>\n",
              "      <th>9</th>\n",
              "      <td>00040093b2687caa</td>\n",
              "      <td>alignment subject contrary dulithgow</td>\n",
              "      <td>0</td>\n",
              "      <td>0</td>\n",
              "      <td>0</td>\n",
              "      <td>0</td>\n",
              "      <td>0</td>\n",
              "      <td>0</td>\n",
              "      <td>True</td>\n",
              "    </tr>\n",
              "  </tbody>\n",
              "</table>\n",
              "</div>"
            ],
            "text/plain": [
              "                 id  ...  clean\n",
              "0  0000997932d777bf  ...   True\n",
              "1  000103f0d9cfb60f  ...   True\n",
              "2  000113f07ec002fd  ...   True\n",
              "3  0001b41b1c6bb37e  ...   True\n",
              "4  0001d958c54c6e35  ...   True\n",
              "5  00025465d4725e87  ...   True\n",
              "6  0002bcb3da6cb337  ...  False\n",
              "7  00031b1e95af7921  ...   True\n",
              "8  00037261f536c51d  ...   True\n",
              "9  00040093b2687caa  ...   True\n",
              "\n",
              "[10 rows x 9 columns]"
            ]
          },
          "metadata": {
            "tags": []
          },
          "execution_count": 109
        }
      ]
    },
    {
      "cell_type": "code",
      "metadata": {
        "id": "-H0yiI9jzih0",
        "outputId": "1ba830b8-e983-4200-932b-eda1919d1816",
        "colab": {
          "base_uri": "https://localhost:8080/"
        }
      },
      "source": [
        "# Turn python to spark\n",
        "training_spark_df = spark.createDataFrame(train)\n",
        "training_spark_df.show()\n",
        "training_spark_df.printSchema()\n"
      ],
      "execution_count": 112,
      "outputs": [
        {
          "output_type": "stream",
          "text": [
            "+----------------+--------------------+-----+------------+-------+------+------+-------------+-----+\n",
            "|              id|        comment_text|toxic|severe_toxic|obscene|threat|insult|identity_hate|clean|\n",
            "+----------------+--------------------+-----+------------+-------+------+------+-------------+-----+\n",
            "|0000997932d777bf|explanation edits...|    0|           0|      0|     0|     0|            0| true|\n",
            "|000103f0d9cfb60f|aww matches backg...|    0|           0|      0|     0|     0|            0| true|\n",
            "|000113f07ec002fd|hey man really tr...|    0|           0|      0|     0|     0|            0| true|\n",
            "|0001b41b1c6bb37e|make real suggest...|    0|           0|      0|     0|     0|            0| true|\n",
            "|0001d958c54c6e35|sir hero chance r...|    0|           0|      0|     0|     0|            0| true|\n",
            "|00025465d4725e87|congratulations w...|    0|           0|      0|     0|     0|            0| true|\n",
            "|0002bcb3da6cb337|cocksucker piss a...|    1|           1|      1|     0|     1|            0|false|\n",
            "|00031b1e95af7921|vandalism matt sh...|    0|           0|      0|     0|     0|            0| true|\n",
            "|00037261f536c51d|sorry word nonsen...|    0|           0|      0|     0|     0|            0| true|\n",
            "|00040093b2687caa|alignment subject...|    0|           0|      0|     0|     0|            0| true|\n",
            "|0005300084f90edc|fair use rational...|    0|           0|      0|     0|     0|            0| true|\n",
            "|00054a5e18b50dd4|bbq man lets disc...|    0|           0|      0|     0|     0|            0| true|\n",
            "|0005c987bdfc9d4b|hey talk exclusiv...|    1|           0|      0|     0|     0|            0|false|\n",
            "|0006f16e4e9f292e|start throwing ac...|    0|           0|      0|     0|     0|            0| true|\n",
            "|00070ef96486d6f9|oh girl started a...|    0|           0|      0|     0|     0|            0| true|\n",
            "|00078f8ce7eb276d|juelz santanas ag...|    0|           0|      0|     0|     0|            0| true|\n",
            "|0007e25b2121310b|bye look come thi...|    1|           0|      0|     0|     0|            0|false|\n",
            "|000897889268bc93|redirect talk voy...|    0|           0|      0|     0|     0|            0| true|\n",
            "|0009801bd85e5806|mitsurugi point m...|    0|           0|      0|     0|     0|            0| true|\n",
            "|0009eaea3325de8c|mean bother see w...|    0|           0|      0|     0|     0|            0| true|\n",
            "+----------------+--------------------+-----+------------+-------+------+------+-------------+-----+\n",
            "only showing top 20 rows\n",
            "\n",
            "root\n",
            " |-- id: string (nullable = true)\n",
            " |-- comment_text: string (nullable = true)\n",
            " |-- toxic: long (nullable = true)\n",
            " |-- severe_toxic: long (nullable = true)\n",
            " |-- obscene: long (nullable = true)\n",
            " |-- threat: long (nullable = true)\n",
            " |-- insult: long (nullable = true)\n",
            " |-- identity_hate: long (nullable = true)\n",
            " |-- clean: boolean (nullable = true)\n",
            "\n"
          ],
          "name": "stdout"
        }
      ]
    },
    {
      "cell_type": "markdown",
      "metadata": {
        "id": "hExZiB0t2828"
      },
      "source": [
        "TFIDF(t,d,D)=TF(t,d)⋅IDF(t,D). where IDF(t,D)=log(|D|+1/DF(t,D)+1).\n",
        "TF is the number of times a term occurs within a document. This means that a term has different TF values for different documents of the corpus.\n",
        "DF of a term is the number of documents having this term.Inverse Document Frequency - IDF"
      ]
    },
    {
      "cell_type": "code",
      "metadata": {
        "id": "o9KUhAl93GIv",
        "outputId": "1cc59c8a-ee29-4926-eeae-15f146a90815",
        "colab": {
          "base_uri": "https://localhost:8080/"
        }
      },
      "source": [
        "df = (training_spark_df\n",
        "  .rdd\n",
        "  .map(lambda x : (x.id,x.comment_text.split(\" \"),x.toxic,x.severe_toxic,x.obscene,x.threat,x.insult,x.identity_hate,x.clean))\n",
        "  .toDF()\n",
        "  .withColumnRenamed(\"_1\",\"id\")\n",
        "  .withColumnRenamed(\"_2\",\"comment_text\")\n",
        "  .withColumnRenamed(\"_3\",\"toxic\")\n",
        "  .withColumnRenamed(\"_4\",\"severe_toxic\")\n",
        "  .withColumnRenamed(\"_5\",\"obscene\")\n",
        "  .withColumnRenamed(\"_6\",\"threat\")\n",
        "  .withColumnRenamed(\"_7\",\"insult\")\n",
        "  .withColumnRenamed(\"_8\",\"identity_hate\")\n",
        "  .withColumnRenamed(\"_9\",\"clean\")\n",
        "\n",
        ")\n",
        "htf = HashingTF(inputCol=\"comment_text\", outputCol=\"tf\")\n",
        "tf = htf.transform(df)\n",
        "\n",
        "#tf.show(truncate=False)\n",
        "\n",
        "idf = IDF(inputCol=\"tf\", outputCol=\"idf\")\n",
        "tfidf = idf.fit(tf).transform(tf)\n",
        "tfidf.show(truncate=False)\n",
        "\n",
        "#hashingTF = HashingTF()\n",
        "#tf = hashingTF.transform(training_spark_df)\n",
        "\n",
        "#tf.cache()\n",
        "#idf=IDF().fit(tf)\n",
        "#tfidf = idf.transform(tf)"
      ],
      "execution_count": 113,
      "outputs": [
        {
          "output_type": "stream",
          "text": [
            "+----------------+-----------------------------------------------------------------------------------------------------------------------------------------------------------------------------------------------------------------------------------------------------------------------------------------------------------------------------------------------------------------------------------------------------------------------------------------------------------------------------------------------------------------------------------------------------------------------------------------------------------------------------------------------------------------------------------------------------------------------------------------------------------------------------------------------------------------------------------------------------------------------------------------------------------------------------------------------------------------------------------------------------------------------------------------------------------------------------------------------------------------------------------------------------------------------------------------------------------------------------------------------------------------------------------------------------------------------------------------------------------------------------------------------------------------------------------------------------------------------------------------------------------------------------------------------------------------------------------------------------------------------------------------------------------------------------------------------------------------------------------------------------------------------------------------------------------------------------------------------------------------------------------------------------------------------------------------------------------------------------------------------------------------------------------------------------------------------------------------------------------------------------------------------------------+-----+------------+-------+------+------+-------------+-----+----------------------------------------------------------------------------------------------------------------------------------------------------------------------------------------------------------------------------------------------------------------------------------------------------------------------------------------------------------------------------------------------------------------------------------------------------------------------------------------------------------------------------------------------------------------------------------------------------------------------------------------------------------------------------------------------------------------------------------------------------------------------------------------------------------------------------------------------------------------------------------------------------------------------------------------------------------------------------------------------------------------------------------------------------------------------------------------------------------------------------------------------------------------------------------------------------------------------------------------------------------------------------------------------------------------------------------------------------+----------------------------------------------------------------------------------------------------------------------------------------------------------------------------------------------------------------------------------------------------------------------------------------------------------------------------------------------------------------------------------------------------------------------------------------------------------------------------------------------------------------------------------------------------------------------------------------------------------------------------------------------------------------------------------------------------------------------------------------------------------------------------------------------------------------------------------------------------------------------------------------------------------------------------------------------------------------------------------------------------------------------------------------------------------------------------------------------------------------------------------------------------------------------------------------------------------------------------------------------------------------------------------------------------------------------------------------------------------------------------------------------------------------------------------------------------------------------------------------------------------------------------------------------------------------------------------------------------------------------------------------------------------------------------------------------------------------------------------------------------------------------------------------------------------------------------------------------------------------------------------------------------------------------------------------------------------------------------------------------------------------------------------------------------------------------------------------------------------------------------------------------------------------------------------------------------------------------------------------------------------------------------------------------------------------------------------------------------------------------------------------------------------------------------------------------------------------------------------------------------------------------------------------------------------------------------------------------------------------------------------------------------------------------------------------------------------------------------------------------------------------------------------------------------------------------------------------------------------------------------------------------------------------------------------------------------------------------------------------------------------------------------------------------------------------------------------------------------------------------------------------------------------------------+\n",
            "|id              |comment_text                                                                                                                                                                                                                                                                                                                                                                                                                                                                                                                                                                                                                                                                                                                                                                                                                                                                                                                                                                                                                                                                                                                                                                                                                                                                                                                                                                                                                                                                                                                                                                                                                                                                                                                                                                                                                                                                                                                                                                                                                                                                                                                                               |toxic|severe_toxic|obscene|threat|insult|identity_hate|clean|tf                                                                                                                                                                                                                                                                                                                                                                                                                                                                                                                                                                                                                                                                                                                                                                                                                                                                                                                                                                                                                                                                                                                                                                                                                                                                                                                                                  |idf                                                                                                                                                                                                                                                                                                                                                                                                                                                                                                                                                                                                                                                                                                                                                                                                                                                                                                                                                                                                                                                                                                                                                                                                                                                                                                                                                                                                                                                                                                                                                                                                                                                                                                                                                                                                                                                                                                                                                                                                                                                                                                                                                                                                                                                                                                                                                                                                                                                                                                                                                                                                                                                                                                                                                                                                                                                                                                                                                                                                                                                                                                                                                                   |\n",
            "+----------------+-----------------------------------------------------------------------------------------------------------------------------------------------------------------------------------------------------------------------------------------------------------------------------------------------------------------------------------------------------------------------------------------------------------------------------------------------------------------------------------------------------------------------------------------------------------------------------------------------------------------------------------------------------------------------------------------------------------------------------------------------------------------------------------------------------------------------------------------------------------------------------------------------------------------------------------------------------------------------------------------------------------------------------------------------------------------------------------------------------------------------------------------------------------------------------------------------------------------------------------------------------------------------------------------------------------------------------------------------------------------------------------------------------------------------------------------------------------------------------------------------------------------------------------------------------------------------------------------------------------------------------------------------------------------------------------------------------------------------------------------------------------------------------------------------------------------------------------------------------------------------------------------------------------------------------------------------------------------------------------------------------------------------------------------------------------------------------------------------------------------------------------------------------------+-----+------------+-------+------+------+-------------+-----+----------------------------------------------------------------------------------------------------------------------------------------------------------------------------------------------------------------------------------------------------------------------------------------------------------------------------------------------------------------------------------------------------------------------------------------------------------------------------------------------------------------------------------------------------------------------------------------------------------------------------------------------------------------------------------------------------------------------------------------------------------------------------------------------------------------------------------------------------------------------------------------------------------------------------------------------------------------------------------------------------------------------------------------------------------------------------------------------------------------------------------------------------------------------------------------------------------------------------------------------------------------------------------------------------------------------------------------------------+----------------------------------------------------------------------------------------------------------------------------------------------------------------------------------------------------------------------------------------------------------------------------------------------------------------------------------------------------------------------------------------------------------------------------------------------------------------------------------------------------------------------------------------------------------------------------------------------------------------------------------------------------------------------------------------------------------------------------------------------------------------------------------------------------------------------------------------------------------------------------------------------------------------------------------------------------------------------------------------------------------------------------------------------------------------------------------------------------------------------------------------------------------------------------------------------------------------------------------------------------------------------------------------------------------------------------------------------------------------------------------------------------------------------------------------------------------------------------------------------------------------------------------------------------------------------------------------------------------------------------------------------------------------------------------------------------------------------------------------------------------------------------------------------------------------------------------------------------------------------------------------------------------------------------------------------------------------------------------------------------------------------------------------------------------------------------------------------------------------------------------------------------------------------------------------------------------------------------------------------------------------------------------------------------------------------------------------------------------------------------------------------------------------------------------------------------------------------------------------------------------------------------------------------------------------------------------------------------------------------------------------------------------------------------------------------------------------------------------------------------------------------------------------------------------------------------------------------------------------------------------------------------------------------------------------------------------------------------------------------------------------------------------------------------------------------------------------------------------------------------------------------------------------------+\n",
            "|0000997932d777bf|[explanation, edits, made, username, hardcore, metallica, fan, reverted, vandalisms, closure, gas, voted, new, york, dolls, fac, please, remove, template, talk, page, since, retired]                                                                                                                                                                                                                                                                                                                                                                                                                                                                                                                                                                                                                                                                                                                                                                                                                                                                                                                                                                                                                                                                                                                                                                                                                                                                                                                                                                                                                                                                                                                                                                                                                                                                                                                                                                                                                                                                                                                                                                     |0    |0           |0      |0     |0     |0            |true |(262144,[6240,10214,11680,23032,25000,26144,66299,68213,72125,77971,79300,89833,103863,110427,110510,140784,151751,154643,166368,167363,223402,229137,233967],[1.0,1.0,1.0,1.0,1.0,1.0,1.0,1.0,1.0,1.0,1.0,1.0,1.0,1.0,1.0,1.0,1.0,1.0,1.0,1.0,1.0,1.0,1.0])                                                                                                                                                                                                                                                                                                                                                                                                                                                                                                                                                                                                                                                                                                                                                                                                                                                                                                                                                                                                                                                                                        |(262144,[6240,10214,11680,23032,25000,26144,66299,68213,72125,77971,79300,89833,103863,110427,110510,140784,151751,154643,166368,167363,223402,229137,233967],[8.61295468002373,6.378131689130503,4.721134381913103,4.854967418499492,5.4305997677763935,3.561773291533124,7.561409902213605,8.42490244852079,1.7798114790151458,7.405539531506821,6.327761329741553,2.9929286971600795,6.60961248188254,1.7471714819450848,5.364185324877386,2.9731285205409606,8.648045999835,3.898157231831821,1.9715024468165825,6.419568878994676,3.0636102828113647,4.191624444385172,3.062939816812397])                                                                                                                                                                                                                                                                                                                                                                                                                                                                                                                                                                                                                                                                                                                                                                                                                                                                                                                                                                                                                                                                                                                                                                                                                                                                                                                                                                                                                                                                                                                                                                                                                                                                                                                                                                                                                                                                                                                                                                                                                                                                                                                                                                                                                                                                                                                                                                                                                                                                                                                                                                       |\n",
            "|000103f0d9cfb60f|[aww, matches, background, colour, seemingly, stuck, thanks, talk, january, utc]                                                                                                                                                                                                                                                                                                                                                                                                                                                                                                                                                                                                                                                                                                                                                                                                                                                                                                                                                                                                                                                                                                                                                                                                                                                                                                                                                                                                                                                                                                                                                                                                                                                                                                                                                                                                                                                                                                                                                                                                                                                                           |0    |0           |0      |0     |0     |0            |true |(262144,[2195,4714,13283,25253,48234,64358,72125,85939,119702,191387],[1.0,1.0,1.0,1.0,1.0,1.0,1.0,1.0,1.0,1.0])                                                                                                                                                                                                                                                                                                                                                                                                                                                                                                                                                                                                                                                                                                                                                                                                                                                                                                                                                                                                                                                                                                                                                                                                                                    |(262144,[2195,4714,13283,25253,48234,64358,72125,85939,119702,191387],[6.9763042040647445,5.1333073704248235,6.246909233112458,8.844756294081053,6.1872369016260595,2.588755928992073,1.7798114790151458,6.886500309203441,5.07349573136165,3.235125250547959])                                                                                                                                                                                                                                                                                                                                                                                                                                                                                                                                                                                                                                                                                                                                                                                                                                                                                                                                                                                                                                                                                                                                                                                                                                                                                                                                                                                                                                                                                                                                                                                                                                                                                                                                                                                                                                                                                                                                                                                                                                                                                                                                                                                                                                                                                                                                                                                                                                                                                                                                                                                                                                                                                                                                                                                                                                                                                                       |\n",
            "|000113f07ec002fd|[hey, man, really, trying, edit, war, guy, constantly, removing, relevant, information, talking, edits, instead, talk, page, seems, care, formatting, actual, info]                                                                                                                                                                                                                                                                                                                                                                                                                                                                                                                                                                                                                                                                                                                                                                                                                                                                                                                                                                                                                                                                                                                                                                                                                                                                                                                                                                                                                                                                                                                                                                                                                                                                                                                                                                                                                                                                                                                                                                                        |0    |0           |0      |0     |0     |0            |true |(262144,[31571,33123,38574,42059,52351,61756,72125,109230,109753,110427,112747,117845,130924,161102,162698,180708,181998,223402,229264,234312,243983],[1.0,1.0,1.0,1.0,1.0,1.0,1.0,1.0,1.0,1.0,1.0,1.0,1.0,1.0,1.0,1.0,1.0,1.0,1.0,1.0,1.0])                                                                                                                                                                                                                                                                                                                                                                                                                                                                                                                                                                                                                                                                                                                                                                                                                                                                                                                                                                                                                                                                                                        |(262144,[31571,33123,38574,42059,52351,61756,72125,109230,109753,110427,112747,117845,130924,161102,162698,180708,181998,223402,229264,234312,243983],[4.667697011907606,3.5836442815830836,2.89151295979327,4.4524565222887595,3.852845947317123,4.237414554579455,1.7798114790151458,4.225768962539821,4.167063242488787,1.7471714819450848,3.3792677928642827,6.181157855549678,5.996314229323013,4.5083184317650815,2.4830033660499913,4.280861103753467,4.28267516320786,3.0636102828113647,3.013511531250627,4.284492519455442,4.0304532938483515])                                                                                                                                                                                                                                                                                                                                                                                                                                                                                                                                                                                                                                                                                                                                                                                                                                                                                                                                                                                                                                                                                                                                                                                                                                                                                                                                                                                                                                                                                                                                                                                                                                                                                                                                                                                                                                                                                                                                                                                                                                                                                                                                                                                                                                                                                                                                                                                                                                                                                                                                                                                                             |\n",
            "|0001b41b1c6bb37e|[make, real, suggestions, improvement, wondered, section, statistics, later, subsection, types, accidents, think, references, may, need, tidying, exact, format, ie, date, format, etc, later, one, else, first, preferences, formatting, style, references, want, please, let, know, appears, backlog, articles, review, guess, may, delay, reviewer, turns, listed, relevant, form, eg, wikipedia, good_article_nominations, transport]                                                                                                                                                                                                                                                                                                                                                                                                                                                                                                                                                                                                                                                                                                                                                                                                                                                                                                                                                                                                                                                                                                                                                                                                                                                                                                                                                                                                                                                                                                                                                                                                                                                                                                                  |0    |0           |0      |0     |0     |0            |true |(262144,[16108,21823,30385,44673,49708,52633,64415,67562,70900,83161,84463,89717,91192,96608,107060,117845,123655,125026,127959,133480,134304,135238,138021,140931,153423,156466,162055,165700,166368,172164,173339,174475,181998,182691,185276,188835,189716,190256,193920,215643,221128,222683,228303,241088,254600,261506],[1.0,1.0,1.0,1.0,1.0,1.0,1.0,1.0,1.0,1.0,1.0,1.0,2.0,1.0,1.0,1.0,1.0,1.0,1.0,1.0,1.0,1.0,1.0,1.0,1.0,2.0,1.0,1.0,1.0,1.0,1.0,1.0,1.0,1.0,1.0,1.0,1.0,1.0,2.0,1.0,1.0,1.0,2.0,1.0,1.0,1.0])                                                                                                                                                                                                                                                                                                                                                                                                                                                                                                                                                                                                                                                                                                                                                                                                                            |(262144,[16108,21823,30385,44673,49708,52633,64415,67562,70900,83161,84463,89717,91192,96608,107060,117845,123655,125026,127959,133480,134304,135238,138021,140931,153423,156466,162055,165700,166368,172164,173339,174475,181998,182691,185276,188835,189716,190256,193920,215643,221128,222683,228303,241088,254600,261506],[6.442916242991667,2.028877964753503,6.568604458155163,5.326097989826985,6.310369587029684,8.61295468002373,5.96409335031185,3.704364840535847,6.989817923231468,2.891061339598171,2.622352573676406,2.6820824276685005,5.276711396587438,5.443558912418898,4.315903877911587,6.181157855549678,6.404301406863888,10.370812597576103,7.395283031339631,4.115830605015638,4.182137881180416,6.618958344300778,4.560270586348368,2.3716710750175958,2.299469104463506,7.664188140177158,3.8737359937550178,5.413578080206962,1.9715024468165825,4.15340841185191,3.358877499684302,3.9087196164535434,4.28267516320786,5.789935104157056,5.900317314914613,2.8880182265143497,4.4725604321903,2.787870463411014,8.595536126951396,7.316811415898137,3.088876500525568,8.151609113521108,10.815935934632392,4.187076162820999,1.779440007985614,7.365129993168944])                                                                                                                                                                                                                                                                                                                                                                                                                                                                                                                                                                                                                                                                                                                                                                                                                                                                                                                                                                                                                                                                                                                                                                                                                                                                                                                                                                                                                                                                                                                                                                                                                                                                                                                                                                                                                                                                                                                                                                        |\n",
            "|0001d958c54c6e35|[sir, hero, chance, remember, page]                                                                                                                                                                                                                                                                                                                                                                                                                                                                                                                                                                                                                                                                                                                                                                                                                                                                                                                                                                                                                                                                                                                                                                                                                                                                                                                                                                                                                                                                                                                                                                                                                                                                                                                                                                                                                                                                                                                                                                                                                                                                                                                        |0    |0           |0      |0     |0     |0            |true |(262144,[33532,110427,131217,133834,196997],[1.0,1.0,1.0,1.0,1.0])                                                                                                                                                                                                                                                                                                                                                                                                                                                                                                                                                                                                                                                                                                                                                                                                                                                                                                                                                                                                                                                                                                                                                                                                                                                                                  |(262144,[33532,110427,131217,133834,196997],[6.707250951446457,1.7471714819450848,5.690534939101206,4.514595199876147,4.382854189797409])                                                                                                                                                                                                                                                                                                                                                                                                                                                                                                                                                                                                                                                                                                                                                                                                                                                                                                                                                                                                                                                                                                                                                                                                                                                                                                                                                                                                                                                                                                                                                                                                                                                                                                                                                                                                                                                                                                                                                                                                                                                                                                                                                                                                                                                                                                                                                                                                                                                                                                                                                                                                                                                                                                                                                                                                                                                                                                                                                                                                                             |\n",
            "|00025465d4725e87|[congratulations, well, use, tools, well, talk]                                                                                                                                                                                                                                                                                                                                                                                                                                                                                                                                                                                                                                                                                                                                                                                                                                                                                                                                                                                                                                                                                                                                                                                                                                                                                                                                                                                                                                                                                                                                                                                                                                                                                                                                                                                                                                                                                                                                                                                                                                                                                                            |0    |0           |0      |0     |0     |0            |true |(262144,[72125,98717,186925,202597,261040],[1.0,1.0,2.0,1.0,1.0])                                                                                                                                                                                                                                                                                                                                                                                                                                                                                                                                                                                                                                                                                                                                                                                                                                                                                                                                                                                                                                                                                                                                                                                                                                                                                   |(262144,[72125,98717,186925,202597,261040],[1.7798114790151458,2.698706379027689,5.417065716718235,6.048005322562193,6.253402762423006])                                                                                                                                                                                                                                                                                                                                                                                                                                                                                                                                                                                                                                                                                                                                                                                                                                                                                                                                                                                                                                                                                                                                                                                                                                                                                                                                                                                                                                                                                                                                                                                                                                                                                                                                                                                                                                                                                                                                                                                                                                                                                                                                                                                                                                                                                                                                                                                                                                                                                                                                                                                                                                                                                                                                                                                                                                                                                                                                                                                                                              |\n",
            "|0002bcb3da6cb337|[cocksucker, piss, around, work]                                                                                                                                                                                                                                                                                                                                                                                                                                                                                                                                                                                                                                                                                                                                                                                                                                                                                                                                                                                                                                                                                                                                                                                                                                                                                                                                                                                                                                                                                                                                                                                                                                                                                                                                                                                                                                                                                                                                                                                                                                                                                                                           |1    |1           |1      |0     |1     |0            |false|(262144,[34343,45484,49517,254661],[1.0,1.0,1.0,1.0])                                                                                                                                                                                                                                                                                                                                                                                                                                                                                                                                                                                                                                                                                                                                                                                                                                                                                                                                                                                                                                                                                                                                                                                                                                                                                               |(262144,[34343,45484,49517,254661],[3.113386848808117,7.805863240114567,6.637916258045393,3.8038589133764082])                                                                                                                                                                                                                                                                                                                                                                                                                                                                                                                                                                                                                                                                                                                                                                                                                                                                                                                                                                                                                                                                                                                                                                                                                                                                                                                                                                                                                                                                                                                                                                                                                                                                                                                                                                                                                                                                                                                                                                                                                                                                                                                                                                                                                                                                                                                                                                                                                                                                                                                                                                                                                                                                                                                                                                                                                                                                                                                                                                                                                                                        |\n",
            "|00031b1e95af7921|[vandalism, matt, shirvington, article, reverted, please, banned]                                                                                                                                                                                                                                                                                                                                                                                                                                                                                                                                                                                                                                                                                                                                                                                                                                                                                                                                                                                                                                                                                                                                                                                                                                                                                                                                                                                                                                                                                                                                                                                                                                                                                                                                                                                                                                                                                                                                                                                                                                                                                          |0    |0           |0      |0     |0     |0            |true |(262144,[61734,96524,154643,166368,176991,180331,188989],[1.0,1.0,1.0,1.0,1.0,1.0,1.0])                                                                                                                                                                                                                                                                                                                                                                                                                                                                                                                                                                                                                                                                                                                                                                                                                                                                                                                                                                                                                                                                                                                                                                                                                                                             |(262144,[61734,96524,154643,166368,176991,180331,188989],[1.6030163419495056,6.930394502760667,3.898157231831821,1.9715024468165825,4.755497104242233,8.684413644005874,3.5626566838167206])                                                                                                                                                                                                                                                                                                                                                                                                                                                                                                                                                                                                                                                                                                                                                                                                                                                                                                                                                                                                                                                                                                                                                                                                                                                                                                                                                                                                                                                                                                                                                                                                                                                                                                                                                                                                                                                                                                                                                                                                                                                                                                                                                                                                                                                                                                                                                                                                                                                                                                                                                                                                                                                                                                                                                                                                                                                                                                                                                                          |\n",
            "|00037261f536c51d|[sorry, word, nonsense, offensive, anyway, intending, write, anything, article, wow, would, jump, vandalism, merely, requesting, encyclopedic, one, use, school, reference, selective, breeding, page, almost, stub, points, animal, breeding, short, messy, article, gives, info, must, someone, around, expertise, eugenics]                                                                                                                                                                                                                                                                                                                                                                                                                                                                                                                                                                                                                                                                                                                                                                                                                                                                                                                                                                                                                                                                                                                                                                                                                                                                                                                                                                                                                                                                                                                                                                                                                                                                                                                                                                                                                             |0    |0           |0      |0     |0     |0            |true |(262144,[4631,5232,11853,21823,24031,28208,35925,61031,61734,73265,79198,81662,84685,91981,97880,98717,106456,107810,110427,115658,119550,137855,142370,144961,146341,148039,151385,170806,174331,180708,188989,197785,223600,229407,236757,254661],[1.0,2.0,1.0,1.0,1.0,1.0,1.0,1.0,2.0,1.0,1.0,1.0,1.0,1.0,1.0,1.0,1.0,1.0,1.0,1.0,1.0,1.0,1.0,1.0,1.0,1.0,1.0,1.0,1.0,1.0,1.0,1.0,1.0,1.0,1.0,1.0])                                                                                                                                                                                                                                                                                                                                                                                                                                                                                                                                                                                                                                                                                                                                                                                                                                                                                                                                              |(262144,[4631,5232,11853,21823,24031,28208,35925,61031,61734,73265,79198,81662,84685,91981,97880,98717,106456,107810,110427,115658,119550,137855,142370,144961,146341,148039,151385,170806,174331,180708,188989,197785,223600,229407,236757,254661],[5.4392205108203004,16.303218227042215,4.785813658909869,2.028877964753503,3.8932250393425023,5.042936428786522,5.618948032437208,4.490838426501484,3.206032683899011,7.074975731571774,3.767410925333719,4.675062294617166,4.194114072227132,5.377662617820867,5.069499722048268,2.698706379027689,7.9729173247777325,3.395024908202139,1.7471714819450848,4.638118779425482,6.408096477832439,2.013788158312687,7.623541683320612,3.6400331890631685,3.846369622060997,3.1119780010123934,5.565153550838608,4.533082150410163,8.684413644005874,4.280861103753467,3.5626566838167206,6.077617176608837,6.431174425114984,3.610397906492675,5.00764425870845,3.8038589133764082])                                                                                                                                                                                                                                                                                                                                                                                                                                                                                                                                                                                                                                                                                                                                                                                                                                                                                                                                                                                                                                                                                                                                                                                                                                                                                                                                                                                                                                                                                                                                                                                                                                                                                                                                                                                                                                                                                                                                                                                                                                                                                                                                                                                                                                |\n",
            "|00040093b2687caa|[alignment, subject, contrary, dulithgow]                                                                                                                                                                                                                                                                                                                                                                                                                                                                                                                                                                                                                                                                                                                                                                                                                                                                                                                                                                                                                                                                                                                                                                                                                                                                                                                                                                                                                                                                                                                                                                                                                                                                                                                                                                                                                                                                                                                                                                                                                                                                                                                  |0    |0           |0      |0     |0     |0            |true |(262144,[36319,86210,112046,193327],[1.0,1.0,1.0,1.0])                                                                                                                                                                                                                                                                                                                                                                                                                                                                                                                                                                                                                                                                                                                                                                                                                                                                                                                                                                                                                                                                                                                                                                                                                                                                                              |(262144,[36319,86210,112046,193327],[3.7231242240127735,9.495343860222203,8.514514607210478,5.6776315342652985])                                                                                                                                                                                                                                                                                                                                                                                                                                                                                                                                                                                                                                                                                                                                                                                                                                                                                                                                                                                                                                                                                                                                                                                                                                                                                                                                                                                                                                                                                                                                                                                                                                                                                                                                                                                                                                                                                                                                                                                                                                                                                                                                                                                                                                                                                                                                                                                                                                                                                                                                                                                                                                                                                                                                                                                                                                                                                                                                                                                                                                                      |\n",
            "|0005300084f90edc|[fair, use, rationale, image, wonju, jpg, thanks, uploading, image, wonju, jpg, notice, image, page, specifies, image, used, fair, use, explanation, rationale, use, wikipedia, articles, constitutes, fair, use, addition, boilerplate, fair, use, template, must, also, write, image, description, page, specific, explanation, rationale, using, image, article, consistent, fair, use, please, go, image, description, page, edit, include, fair, use, rationale, uploaded, fair, use, media, consider, checking, specified, fair, use, rationale, pages, find, list, image, pages, edited, clicking, contributions, link, located, top, wikipedia, page, logged, selecting, image, dropdown, box, note, fair, use, images, uploaded, may, lacking, explanation, deleted, one, week, uploaded, described, criteria, speedy, deletion, questions, please, ask, media, copyright, questions, page, thank, talk, contribs, unspecified, source, image, wonju, jpg, thanks, uploading, image, wonju, jpg, noticed, file, description, page, currently, specify, created, content, copyright, status, unclear, create, file, need, specify, owner, copyright, obtained, website, link, website, taken, together, restatement, website, terms, use, content, usually, sufficient, information, however, copyright, holder, different, website, publisher, copyright, also, acknowledged, well, adding, source, please, add, proper, copyright, licensing, tag, file, one, already, created, took, picture, audio, video, tag, used, release, gfdl, believe, media, meets, criteria, wikipedia, fair, use, use, tag, one, tags, listed, wikipedia, image, copyright, tags, fair, use, see, wikipedia, image, copyright, tags, full, list, copyright, tags, use, uploaded, files, consider, checking, specified, source, tagged, find, list, files, uploaded, following, link, unsourced, untagged, images, may, deleted, one, week, tagged, described, criteria, speedy, deletion, image, copyrighted, non, free, license, per, wikipedia, fair, use, image, deleted, hours, questions, please, ask, media, copyright, questions, page, thank, talk, contribs]|0    |0           |0      |0     |0     |0            |true |(262144,[154,2306,3564,3657,4075,7435,8538,11653,11680,12293,12650,12922,13828,13966,14376,18176,19212,19684,21823,22370,22816,23273,24516,24815,32392,33400,38004,38574,41883,43157,48063,48826,52923,53931,61734,62057,62427,64229,64358,65299,67760,68106,72125,74375,75440,77811,79813,80496,80686,81783,83161,84463,86469,90723,91192,91878,92077,96266,97728,98717,99855,101370,104883,109509,110427,114617,116885,122655,124046,129946,138201,138905,142239,146341,147136,147224,148675,151393,154594,154844,156384,158174,160852,161061,162698,165076,166368,176425,180529,183375,184046,186925,196946,198884,200378,201547,205234,205397,207475,212846,213052,214895,216118,218319,223521,223985,225157,226346,228877,229137,229407,231068,232324,235217,237167,237761,241088,244450,247912,249943,251750,254600,257560],[1.0,1.0,1.0,4.0,1.0,4.0,1.0,1.0,3.0,3.0,1.0,2.0,3.0,1.0,3.0,1.0,2.0,1.0,4.0,1.0,1.0,3.0,2.0,1.0,12.0,2.0,1.0,1.0,1.0,1.0,1.0,5.0,1.0,3.0,1.0,1.0,1.0,1.0,2.0,4.0,1.0,3.0,2.0,15.0,1.0,1.0,1.0,1.0,2.0,2.0,1.0,1.0,1.0,2.0,2.0,2.0,2.0,1.0,1.0,16.0,1.0,3.0,1.0,1.0,7.0,2.0,2.0,1.0,2.0,2.0,4.0,1.0,1.0,1.0,2.0,1.0,1.0,1.0,1.0,2.0,1.0,4.0,3.0,2.0,1.0,1.0,4.0,10.0,1.0,1.0,1.0,1.0,2.0,1.0,1.0,1.0,1.0,1.0,4.0,2.0,5.0,1.0,2.0,1.0,1.0,1.0,1.0,1.0,1.0,1.0,1.0,1.0,1.0,1.0,1.0,1.0,1.0,2.0,2.0,1.0,1.0,6.0,1.0])|(262144,[154,2306,3564,3657,4075,7435,8538,11653,11680,12293,12650,12922,13828,13966,14376,18176,19212,19684,21823,22370,22816,23273,24516,24815,32392,33400,38004,38574,41883,43157,48063,48826,52923,53931,61734,62057,62427,64229,64358,65299,67760,68106,72125,74375,75440,77811,79813,80496,80686,81783,83161,84463,86469,90723,91192,91878,92077,96266,97728,98717,99855,101370,104883,109509,110427,114617,116885,122655,124046,129946,138201,138905,142239,146341,147136,147224,148675,151393,154594,154844,156384,158174,160852,161061,162698,165076,166368,176425,180529,183375,184046,186925,196946,198884,200378,201547,205234,205397,207475,212846,213052,214895,216118,218319,223521,223985,225157,226346,228877,229137,229407,231068,232324,235217,237167,237761,241088,244450,247912,249943,251750,254600,257560],[3.7876800388580296,3.498684496237117,4.13718649331815,17.430346234746434,4.642012359944614,18.678801405903123,2.2051078234112977,7.447651016856947,14.16340314573931,12.768737560002412,4.260232569577959,12.302609784799992,14.286221014820388,6.4830822847170015,10.176678413500124,3.9381940999514495,7.733647740133098,4.034695081756714,8.115511859014012,5.00764425870845,7.345521521780568,9.276550965766262,8.425973026505792,6.512190368875072,51.122790834935515,7.877675201234312,4.304240577981315,2.89151295979327,4.370388309096649,3.4117940246564245,3.103566343395752,28.051747635909884,4.721838359414897,12.071321135920265,1.6030163419495056,5.993798504725766,4.250075714763982,5.459629382451507,5.177511857984146,20.152375217242938,6.160167579657842,10.08096072342856,3.5596229580302916,56.564131475448995,3.413124949845757,4.308423712131423,6.253402762423006,5.643424778863762,8.41668050714888,5.7500969123146515,2.891061339598171,2.622352573676406,4.738884226687886,7.046464083260072,5.276711396587438,6.0024237540993886,11.629665311557567,4.767956041509863,5.732207635501775,43.17930206444302,4.454071596664058,9.658451657304745,6.516418704984593,5.976363442903664,12.230200373615594,8.488760380115274,11.333404927466216,5.971437324567608,10.755325235641735,6.065929281322143,16.408380694027517,4.136009791868392,3.332555510529808,3.846369622060997,4.554578437845753,4.766482201891562,2.994304471249883,4.2749880351438785,5.048778704410751,10.624044523185601,6.0559947125956715,43.526552885368375,14.076018326970239,6.209367636039304,2.4830033660499913,7.731755267960844,7.88600978726633,44.05178810502643,5.937617676327822,3.853732341229495,4.7941062054878785,2.7085328583591175,9.290537262276779,5.090659201655738,5.214058795349853,3.7148575791579805,6.061356655737057,4.103232614387806,14.906008666726807,6.806183474853064,24.0622066284688,6.454797570878419,9.886445790647855,5.622408243502104,6.86826272165366,3.8052659770671156,3.4346642440927484,6.327761329741553,5.305689118195778,4.191624444385172,3.610397906492675,5.536119253309763,5.398225371117377,4.4725604321903,5.777714992822281,3.448760013893142,4.187076162820999,6.859245085015457,9.767058263030886,4.466541262170499,6.23404731947005,10.676640047913684,3.804421501295607])|\n",
            "|00054a5e18b50dd4|[bbq, man, lets, discuss, maybe, phone]                                                                                                                                                                                                                                                                                                                                                                                                                                                                                                                                                                                                                                                                                                                                                                                                                                                                                                                                                                                                                                                                                                                                                                                                                                                                                                                                                                                                                                                                                                                                                                                                                                                                                                                                                                                                                                                                                                                                                                                                                                                                                                                    |0    |0           |0      |0     |0     |0            |true |(262144,[6122,72462,109753,157192,163314,258969],[1.0,1.0,1.0,1.0,1.0,1.0])                                                                                                                                                                                                                                                                                                                                                                                                                                                                                                                                                                                                                                                                                                                                                                                                                                                                                                                                                                                                                                                                                                                                                                                                                                                                         |(262144,[6122,72462,109753,157192,163314,258969],[6.462797613545496,4.307958054381448,4.167063242488787,9.900808968330368,3.895071761935667,5.914142419906455])                                                                                                                                                                                                                                                                                                                                                                                                                                                                                                                                                                                                                                                                                                                                                                                                                                                                                                                                                                                                                                                                                                                                                                                                                                                                                                                                                                                                                                                                                                                                                                                                                                                                                                                                                                                                                                                                                                                                                                                                                                                                                                                                                                                                                                                                                                                                                                                                                                                                                                                                                                                                                                                                                                                                                                                                                                                                                                                                                                                                       |\n",
            "|0005c987bdfc9d4b|[hey, talk, exclusive, group, wp, talibans, good, destroying, self, appointed, purist, gang, one, asks, questions, abt, anti, social, destructive, non, contribution, wp, ask, sityush, clean, behavior, issue, nonsensical, warnings]                                                                                                                                                                                                                                                                                                                                                                                                                                                                                                                                                                                                                                                                                                                                                                                                                                                                                                                                                                                                                                                                                                                                                                                                                                                                                                                                                                                                                                                                                                                                                                                                                                                                                                                                                                                                                                                                                                                     |1    |0           |0      |0     |0     |0            |false|(262144,[21823,44864,48305,48648,61756,71895,72125,90723,96565,98035,113432,137856,138218,141062,154037,155034,159559,162930,174310,190483,200433,207475,211379,223985,226939,238842,251464,258463],[1.0,1.0,1.0,1.0,1.0,1.0,1.0,1.0,1.0,1.0,1.0,1.0,2.0,1.0,1.0,1.0,1.0,1.0,1.0,1.0,1.0,1.0,1.0,1.0,1.0,1.0,1.0,1.0])                                                                                                                                                                                                                                                                                                                                                                                                                                                                                                                                                                                                                                                                                                                                                                                                                                                                                                                                                                                                                              |(262144,[21823,44864,48305,48648,61756,71895,72125,90723,96565,98035,113432,137856,138218,141062,154037,155034,159559,162930,174310,190483,200433,207475,211379,223985,226939,238842,251464,258463],[2.028877964753503,5.492566491525593,10.370812597576103,4.261120669103471,4.237414554579455,5.383104808123552,1.7798114790151458,3.523232041630036,7.469391003493353,6.856286530606945,2.7018777276421937,8.173588020239883,6.187959215876382,4.201201865084647,5.341682720843683,7.143968603058726,5.274611415150201,9.677665417016158,6.8743050361096225,7.270720308697869,10.593956148890312,3.7265021666817018,4.610019868203122,3.8052659770671156,6.6919834793156685,7.192758767228158,3.6690979620085136,4.995534189891938])                                                                                                                                                                                                                                                                                                                                                                                                                                                                                                                                                                                                                                                                                                                                                                                                                                                                                                                                                                                                                                                                                                                                                                                                                                                                                                                                                                                                                                                                                                                                                                                                                                                                                                                                                                                                                                                                                                                                                                                                                                                                                                                                                                                                                                                                                                                                                                                                                               |\n",
            "|0006f16e4e9f292e|[start, throwing, accusations, warnings, lets, review, edit, making, ad, hominem, attacks, going, strengthen, argument, merely, make, look, like, abusing, power, admin, edit, relevant, probably, single, talked, event, int, news, late, absence, notable, since, living, ex, president, attend, certainly, notable, dedicating, aircracft, carrier, intend, revert, edit, hopes, attracting, attention, admin, willing, look, issue, throw, accusations, around, quite, liberally, perhaps, achieve, level, civility, rational, discussion, topic, resolve, matter, peacefully]                                                                                                                                                                                                                                                                                                                                                                                                                                                                                                                                                                                                                                                                                                                                                                                                                                                                                                                                                                                                                                                                                                                                                                                                                                                                                                                                                                                                                                                                                                                                                                         |0    |0           |0      |0     |0     |0            |true |(262144,[16004,22606,23832,28208,32051,36524,48885,49185,51950,56128,65568,68727,70152,77583,78061,78833,78896,83165,84394,89717,89762,90417,90683,102382,103586,110689,112806,116097,116098,117308,128334,138470,144972,148921,153139,153178,154037,162154,162698,164165,164589,170817,172164,177248,181998,185905,199576,205472,208258,223763,229979,233967,236898,239944,247932,248069,250755,251464,253074,254661,258969],[1.0,2.0,1.0,1.0,1.0,1.0,1.0,1.0,1.0,1.0,1.0,1.0,1.0,1.0,1.0,1.0,1.0,1.0,1.0,1.0,1.0,2.0,1.0,1.0,1.0,1.0,1.0,1.0,2.0,1.0,1.0,1.0,1.0,1.0,1.0,1.0,1.0,1.0,3.0,1.0,1.0,1.0,1.0,1.0,1.0,1.0,1.0,1.0,1.0,2.0,1.0,1.0,1.0,1.0,1.0,1.0,1.0,1.0,1.0,1.0,1.0])                                                                                                                                                                                                                                                                                                                                                                                                                                                                                                                                                                                                                                                                |(262144,[16004,22606,23832,28208,32051,36524,48885,49185,51950,56128,65568,68727,70152,77583,78061,78833,78896,83165,84394,89717,89762,90417,90683,102382,103586,110689,112806,116097,116098,117308,128334,138470,144972,148921,153139,153178,154037,162154,162698,164165,164589,170817,172164,177248,181998,185905,199576,205472,208258,223763,229979,233967,236898,239944,247932,248069,250755,251464,253074,254661,258969],[4.083325853741338,8.107295821657639,4.6544430074144305,5.042936428786522,3.1149388773383544,4.559671604599402,6.151304892399996,4.430641344855672,8.684413644005874,6.478992299465476,4.861424260948126,5.376306685409731,3.9165578757406876,8.761374685142004,6.738503494950561,4.394969431371078,4.616337008604384,6.41573010268751,4.2066560426500095,2.6820824276685005,3.985280987312326,10.810349338821167,3.9134151955928673,3.2306765619272744,3.8393520494023505,4.278146169959154,7.097448587423833,6.431174425114984,8.090757888130053,5.250426439520728,7.746144005412944,5.909512782007714,7.201127016898674,3.7291083709194526,6.727977081963574,5.550531031971066,5.341682720843683,7.954898819275054,7.449010098149974,6.094146478560048,6.529212056444503,4.457850278623079,4.15340841185191,8.546263305525057,4.28267516320786,7.024423452408943,6.707250951446457,5.290651240831237,2.0217540744432765,6.131248764366132,4.837423108848583,3.062939816812397,10.370812597576103,5.655891547628893,8.761374685142004,3.6517994431908436,5.791986386927614,3.6690979620085136,8.196060876091943,3.8038589133764082,5.914142419906455])                                                                                                                                                                                                                                                                                                                                                                                                                                                                                                                                                                                                                                                                                                                                                                                                                                                                                                                                                                                                                                                                                                                                                                                                                                                                                                                                                                                                                                                                                                                                                                                |\n",
            "|00070ef96486d6f9|[oh, girl, started, arguments, stuck, nose, belong, believe, argument, yvesnimmo, like, said, situation, settled, apologized, thanks]                                                                                                                                                                                                                                                                                                                                                                                                                                                                                                                                                                                                                                                                                                                                                                                                                                                                                                                                                                                                                                                                                                                                                                                                                                                                                                                                                                                                                                                                                                                                                                                                                                                                                                                                                                                                                                                                                                                                                                                                                      |0    |0           |0      |0     |0     |0            |true |(262144,[13781,18184,25068,28511,36524,37175,48234,61052,64358,157856,168855,168976,180587,208258,225054,225157],[1.0,1.0,1.0,1.0,1.0,1.0,1.0,1.0,1.0,1.0,1.0,1.0,1.0,1.0,1.0,1.0])                                                                                                                                                                                                                                                                                                                                                                                                                                                                                                                                                                                                                                                                                                                                                                                                                                                                                                                                                                                                                                                                                                                                                                 |(262144,[13781,18184,25068,28511,36524,37175,48234,61052,64358,157856,168855,168976,180587,208258,225054,225157],[5.916465301322595,4.259345258073425,5.071495730694983,6.85035179508713,4.559671604599402,5.836064875884558,6.1872369016260595,5.372249884714116,2.588755928992073,4.882701659395411,4.224911697163702,3.276411790319957,7.335859610868831,2.0217540744432765,11.287103329450257,3.4346642440927484])                                                                                                                                                                                                                                                                                                                                                                                                                                                                                                                                                                                                                                                                                                                                                                                                                                                                                                                                                                                                                                                                                                                                                                                                                                                                                                                                                                                                                                                                                                                                                                                                                                                                                                                                                                                                                                                                                                                                                                                                                                                                                                                                                                                                                                                                                                                                                                                                                                                                                                                                                                                                                                                                                                                                                |\n",
            "|00078f8ce7eb276d|[juelz, santanas, age, juelz, santana, years, old, came, february, th, makes, juelz, turn, making, songs, diplomats, third, neff, signed, cam, label, roc, fella, years, old, coming, singles, santana, town, yes, born, really, could, older, lloyd, banks, could, birthday, passed, homie, neff, years, old, juelz, death, god, forbid, thinking, equals, go, caculator, stop, changing, year, birth, god]                                                                                                                                                                                                                                                                                                                                                                                                                                                                                                                                                                                                                                                                                                                                                                                                                                                                                                                                                                                                                                                                                                                                                                                                                                                                                                                                                                                                                                                                                                                                                                                                                                                                                                                                               |0    |0           |0      |0     |0     |0            |true |(262144,[1450,3283,6946,9676,12409,32983,35952,37908,50415,57562,58672,65844,66776,76106,88302,99179,100879,104650,107481,119281,120504,132327,135197,138036,144878,145117,147703,148675,160395,161942,166714,168211,168290,172671,182235,199581,202268,209266,212354,221315,226223,228967,229264,237809,248069],[1.0,1.0,1.0,4.0,1.0,1.0,1.0,1.0,1.0,1.0,2.0,1.0,1.0,3.0,1.0,1.0,1.0,1.0,1.0,2.0,1.0,1.0,1.0,1.0,2.0,1.0,1.0,1.0,1.0,1.0,2.0,1.0,1.0,1.0,3.0,1.0,1.0,1.0,1.0,1.0,1.0,1.0,1.0,1.0,1.0])                                                                                                                                                                                                                                                                                                                                                                                                                                                                                                                                                                                                                                                                                                                                                                                                                                             |(262144,[1450,3283,6946,9676,12409,32983,35952,37908,50415,57562,58672,65844,66776,76106,88302,99179,100879,104650,107481,119281,120504,132327,135197,138036,144878,145117,147703,148675,160395,161942,166714,168211,168290,172671,182235,199581,202268,209266,212354,221315,226223,228967,229264,237809,248069],[8.342664350283817,5.267294309333134,6.085847675745352,42.37582459556125,4.978094555606582,4.991837328010612,10.881638221342094,5.93999579873279,4.9154914822184015,7.775557890619237,5.556086242528419,4.4248685657699305,6.034829901403628,11.168594562839303,5.399611372725254,5.769650432985551,11.287103329450257,5.868783170507525,5.16900613140891,18.990687720444406,4.4698199536321965,5.900317314914613,8.291371055896267,3.7682247053867663,13.519789369863757,8.369332597365979,5.324810159642556,2.994304471249883,7.585801355337765,6.936825393090957,9.547746437075903,4.765746095859059,8.802196679662257,8.93572807228678,12.079742194081218,3.980571930510753,3.253120594767038,4.922352572598347,5.93999579873279,4.1247058320945404,7.902713066104484,6.9498125886177675,3.013511531250627,9.900808968330368,3.6517994431908436])                                                                                                                                                                                                                                                                                                                                                                                                                                                                                                                                                                                                                                                                                                                                                                                                                                                                                                                                                                                                                                                                                                                                                                                                                                                                                                                                                                                                                                                                                                                                                                                                                                                                                                                                                                                                                                                                                                                                                                                                |\n",
            "|0007e25b2121310b|[bye, look, come, think, comming, back, tosser]                                                                                                                                                                                                                                                                                                                                                                                                                                                                                                                                                                                                                                                                                                                                                                                                                                                                                                                                                                                                                                                                                                                                                                                                                                                                                                                                                                                                                                                                                                                                                                                                                                                                                                                                                                                                                                                                                                                                                                                                                                                                                                            |1    |0           |0      |0     |0     |0            |false|(262144,[72813,125772,132270,153423,204380,223763,245730],[1.0,1.0,1.0,1.0,1.0,1.0,1.0])                                                                                                                                                                                                                                                                                                                                                                                                                                                                                                                                                                                                                                                                                                                                                                                                                                                                                                                                                                                                                                                                                                                                                                                                                                                            |(262144,[72813,125772,132270,153423,204380,223763,245730],[8.722153971988721,8.984518236456212,3.152929057312355,2.299469104463506,3.6747664922825125,3.065624382183066,6.512190368875072])                                                                                                                                                                                                                                                                                                                                                                                                                                                                                                                                                                                                                                                                                                                                                                                                                                                                                                                                                                                                                                                                                                                                                                                                                                                                                                                                                                                                                                                                                                                                                                                                                                                                                                                                                                                                                                                                                                                                                                                                                                                                                                                                                                                                                                                                                                                                                                                                                                                                                                                                                                                                                                                                                                                                                                                                                                                                                                                                                                           |\n",
            "|000897889268bc93|[redirect, talk, voydan, pop, georgiev, chernodrinski]                                                                                                                                                                                                                                                                                                                                                                                                                                                                                                                                                                                                                                                                                                                                                                                                                                                                                                                                                                                                                                                                                                                                                                                                                                                                                                                                                                                                                                                                                                                                                                                                                                                                                                                                                                                                                                                                                                                                                                                                                                                                                                     |0    |0           |0      |0     |0     |0            |true |(262144,[12225,72125,76027,119603,131575,196542],[1.0,1.0,1.0,1.0,1.0,1.0])                                                                                                                                                                                                                                                                                                                                                                                                                                                                                                                                                                                                                                                                                                                                                                                                                                                                                                                                                                                                                                                                                                                                                                                                                                                                         |(262144,[12225,72125,76027,119603,131575,196542],[10.370812597576103,1.7798114790151458,6.058672090366388,10.593956148890312,4.234382280217935,10.881638221342094])                                                                                                                                                                                                                                                                                                                                                                                                                                                                                                                                                                                                                                                                                                                                                                                                                                                                                                                                                                                                                                                                                                                                                                                                                                                                                                                                                                                                                                                                                                                                                                                                                                                                                                                                                                                                                                                                                                                                                                                                                                                                                                                                                                                                                                                                                                                                                                                                                                                                                                                                                                                                                                                                                                                                                                                                                                                                                                                                                                                                   |\n",
            "|0009801bd85e5806|[mitsurugi, point, made, sense, argue, include, hindi, ryo, sakazaki, page, include, information]                                                                                                                                                                                                                                                                                                                                                                                                                                                                                                                                                                                                                                                                                                                                                                                                                                                                                                                                                                                                                                                                                                                                                                                                                                                                                                                                                                                                                                                                                                                                                                                                                                                                                                                                                                                                                                                                                                                                                                                                                                                          |0    |0           |0      |0     |0     |0            |true |(262144,[38574,82600,110427,138905,140784,148880,161106,162105,164680,201511,257783],[1.0,1.0,1.0,2.0,1.0,1.0,1.0,1.0,1.0,1.0,1.0])                                                                                                                                                                                                                                                                                                                                                                                                                                                                                                                                                                                                                                                                                                                                                                                                                                                                                                                                                                                                                                                                                                                                                                                                                 |(262144,[38574,82600,110427,138905,140784,148880,161106,162105,164680,201511,257783],[2.89151295979327,11.287103329450257,1.7471714819450848,8.272019583736784,2.9731285205409606,3.1087451638444223,5.314566792227795,11.287103329450257,10.370812597576103,4.173147219884223,7.51434239135562])                                                                                                                                                                                                                                                                                                                                                                                                                                                                                                                                                                                                                                                                                                                                                                                                                                                                                                                                                                                                                                                                                                                                                                                                                                                                                                                                                                                                                                                                                                                                                                                                                                                                                                                                                                                                                                                                                                                                                                                                                                                                                                                                                                                                                                                                                                                                                                                                                                                                                                                                                                                                                                                                                                                                                                                                                                                                     |\n",
            "|0009eaea3325de8c|[mean, bother, see, writing, something, regarding, removing, anything, posted, oh, well, acctually, discuss, even, better, like, ask, take, closer, look, premature, wrestling, deaths, catagory, men, listed, surely, men, belong, together, catagory, anything, think, catagory, besides, delting]                                                                                                                                                                                                                                                                                                                                                                                                                                                                                                                                                                                                                                                                                                                                                                                                                                                                                                                                                                                                                                                                                                                                                                                                                                                                                                                                                                                                                                                                                                                                                                                                                                                                                                                                                                                                                                                       |0    |0           |0      |0     |0     |0            |true |(262144,[5000,8538,9781,14273,18184,31766,55639,57058,61052,72462,74649,83962,85484,90723,107810,114159,116817,125625,127625,131709,146933,147224,153423,155934,171472,174966,186925,208258,223763,234312,235375,241088],[1.0,1.0,1.0,2.0,1.0,1.0,1.0,1.0,1.0,1.0,1.0,1.0,1.0,1.0,2.0,1.0,1.0,1.0,3.0,1.0,1.0,1.0,1.0,1.0,1.0,1.0,1.0,1.0,1.0,1.0,1.0,1.0])                                                                                                                                                                                                                                                                                                                                                                                                                                                                                                                                                                                                                                                                                                                                                                                                                                                                                                                                                                                         |(262144,[5000,8538,9781,14273,18184,31766,55639,57058,61052,72462,74649,83962,85484,90723,107810,114159,116817,125625,127625,131709,146933,147224,153423,155934,171472,174966,186925,208258,223763,234312,235375,241088],[5.472972797625192,2.2051078234112977,3.5630986727741925,10.644478928278911,4.259345258073425,5.517221053089534,3.096333038802232,3.1872454187126724,5.372249884714116,4.307958054381448,6.717560321105318,4.499258347140678,5.517221053089534,3.523232041630036,6.790049816404278,4.079613896992199,8.048424877285878,10.03434036095489,28.747065711635496,3.6954939168197685,7.689791068861812,4.766482201891562,2.299469104463506,6.306927242838711,6.892654174777819,2.6880536915641886,2.7085328583591175,2.0217540744432765,3.065624382183066,4.284492519455442,3.370113572951228,4.187076162820999])                                                                                                                                                                                                                                                                                                                                                                                                                                                                                                                                                                                                                                                                                                                                                                                                                                                                                                                                                                                                                                                                                                                                                                                                                                                                                                                                                                                                                                                                                                                                                                                                                                                                                                                                                                                                                                                                                                                                                                                                                                                                                                                                                                                                                                                                                                                                  |\n",
            "+----------------+-----------------------------------------------------------------------------------------------------------------------------------------------------------------------------------------------------------------------------------------------------------------------------------------------------------------------------------------------------------------------------------------------------------------------------------------------------------------------------------------------------------------------------------------------------------------------------------------------------------------------------------------------------------------------------------------------------------------------------------------------------------------------------------------------------------------------------------------------------------------------------------------------------------------------------------------------------------------------------------------------------------------------------------------------------------------------------------------------------------------------------------------------------------------------------------------------------------------------------------------------------------------------------------------------------------------------------------------------------------------------------------------------------------------------------------------------------------------------------------------------------------------------------------------------------------------------------------------------------------------------------------------------------------------------------------------------------------------------------------------------------------------------------------------------------------------------------------------------------------------------------------------------------------------------------------------------------------------------------------------------------------------------------------------------------------------------------------------------------------------------------------------------------------+-----+------------+-------+------+------+-------------+-----+----------------------------------------------------------------------------------------------------------------------------------------------------------------------------------------------------------------------------------------------------------------------------------------------------------------------------------------------------------------------------------------------------------------------------------------------------------------------------------------------------------------------------------------------------------------------------------------------------------------------------------------------------------------------------------------------------------------------------------------------------------------------------------------------------------------------------------------------------------------------------------------------------------------------------------------------------------------------------------------------------------------------------------------------------------------------------------------------------------------------------------------------------------------------------------------------------------------------------------------------------------------------------------------------------------------------------------------------------+----------------------------------------------------------------------------------------------------------------------------------------------------------------------------------------------------------------------------------------------------------------------------------------------------------------------------------------------------------------------------------------------------------------------------------------------------------------------------------------------------------------------------------------------------------------------------------------------------------------------------------------------------------------------------------------------------------------------------------------------------------------------------------------------------------------------------------------------------------------------------------------------------------------------------------------------------------------------------------------------------------------------------------------------------------------------------------------------------------------------------------------------------------------------------------------------------------------------------------------------------------------------------------------------------------------------------------------------------------------------------------------------------------------------------------------------------------------------------------------------------------------------------------------------------------------------------------------------------------------------------------------------------------------------------------------------------------------------------------------------------------------------------------------------------------------------------------------------------------------------------------------------------------------------------------------------------------------------------------------------------------------------------------------------------------------------------------------------------------------------------------------------------------------------------------------------------------------------------------------------------------------------------------------------------------------------------------------------------------------------------------------------------------------------------------------------------------------------------------------------------------------------------------------------------------------------------------------------------------------------------------------------------------------------------------------------------------------------------------------------------------------------------------------------------------------------------------------------------------------------------------------------------------------------------------------------------------------------------------------------------------------------------------------------------------------------------------------------------------------------------------------------------------------------+\n",
            "only showing top 20 rows\n",
            "\n"
          ],
          "name": "stdout"
        }
      ]
    }
  ]
}